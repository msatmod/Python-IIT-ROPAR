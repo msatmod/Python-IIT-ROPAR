{
  "nbformat": 4,
  "nbformat_minor": 0,
  "metadata": {
    "colab": {
      "name": "Linear_Regression.ipynb",
      "provenance": [],
      "authorship_tag": "ABX9TyMmE+8MrmSDmQMY8qlrFeu9"
    },
    "kernelspec": {
      "name": "python3",
      "display_name": "Python 3"
    },
    "language_info": {
      "name": "python"
    }
  },
  "cells": [
    {
      "cell_type": "markdown",
      "metadata": {
        "id": "ZS8kjgyi2FVl"
      },
      "source": [
        "#Linear Regression\n",
        "\n",
        "Its a method used to find the relationship between dependent variable and independent variable.\n",
        "\n",
        "\n",
        "Problem Statement\n",
        "\n",
        "To predict the relationship between headsize and brain weight"
      ]
    },
    {
      "cell_type": "code",
      "metadata": {
        "id": "kmvh3SrX1kZ7"
      },
      "source": [
        "#import required libraries\n",
        "import pandas as pd\n",
        "import numpy as np\n",
        "import matplotlib.pyplot as plt\n",
        "\n",
        "%matplotlib inline"
      ],
      "execution_count": 1,
      "outputs": []
    },
    {
      "cell_type": "code",
      "metadata": {
        "colab": {
          "base_uri": "https://localhost:8080/",
          "height": 204
        },
        "id": "TY14J-g32thg",
        "outputId": "a729fdb5-abcd-461c-8547-5ae657b9cb28"
      },
      "source": [
        "#load the dataset and read 5 first rows\n",
        "dataset = pd.read_csv('datasets/dataset.csv')\n",
        "dataset.head()"
      ],
      "execution_count": 2,
      "outputs": [
        {
          "output_type": "execute_result",
          "data": {
            "text/html": [
              "<div>\n",
              "<style scoped>\n",
              "    .dataframe tbody tr th:only-of-type {\n",
              "        vertical-align: middle;\n",
              "    }\n",
              "\n",
              "    .dataframe tbody tr th {\n",
              "        vertical-align: top;\n",
              "    }\n",
              "\n",
              "    .dataframe thead th {\n",
              "        text-align: right;\n",
              "    }\n",
              "</style>\n",
              "<table border=\"1\" class=\"dataframe\">\n",
              "  <thead>\n",
              "    <tr style=\"text-align: right;\">\n",
              "      <th></th>\n",
              "      <th>Gender</th>\n",
              "      <th>Age Range</th>\n",
              "      <th>Head Size(cm^3)</th>\n",
              "      <th>Brain Weight(grams)</th>\n",
              "    </tr>\n",
              "  </thead>\n",
              "  <tbody>\n",
              "    <tr>\n",
              "      <th>0</th>\n",
              "      <td>1</td>\n",
              "      <td>1</td>\n",
              "      <td>4512</td>\n",
              "      <td>1530</td>\n",
              "    </tr>\n",
              "    <tr>\n",
              "      <th>1</th>\n",
              "      <td>1</td>\n",
              "      <td>1</td>\n",
              "      <td>3738</td>\n",
              "      <td>1297</td>\n",
              "    </tr>\n",
              "    <tr>\n",
              "      <th>2</th>\n",
              "      <td>1</td>\n",
              "      <td>1</td>\n",
              "      <td>4261</td>\n",
              "      <td>1335</td>\n",
              "    </tr>\n",
              "    <tr>\n",
              "      <th>3</th>\n",
              "      <td>1</td>\n",
              "      <td>1</td>\n",
              "      <td>3777</td>\n",
              "      <td>1282</td>\n",
              "    </tr>\n",
              "    <tr>\n",
              "      <th>4</th>\n",
              "      <td>1</td>\n",
              "      <td>1</td>\n",
              "      <td>4177</td>\n",
              "      <td>1590</td>\n",
              "    </tr>\n",
              "  </tbody>\n",
              "</table>\n",
              "</div>"
            ],
            "text/plain": [
              "   Gender  Age Range  Head Size(cm^3)  Brain Weight(grams)\n",
              "0       1          1             4512                 1530\n",
              "1       1          1             3738                 1297\n",
              "2       1          1             4261                 1335\n",
              "3       1          1             3777                 1282\n",
              "4       1          1             4177                 1590"
            ]
          },
          "metadata": {},
          "execution_count": 2
        }
      ]
    },
    {
      "cell_type": "code",
      "metadata": {
        "colab": {
          "base_uri": "https://localhost:8080/"
        },
        "id": "5gPPK2LGgXkw",
        "outputId": "46643010-dc98-4f99-89fc-d90f8bc20371"
      },
      "source": [
        "#find shape of dataset\n",
        "dataset.shape"
      ],
      "execution_count": 3,
      "outputs": [
        {
          "output_type": "execute_result",
          "data": {
            "text/plain": [
              "(237, 4)"
            ]
          },
          "metadata": {},
          "execution_count": 3
        }
      ]
    },
    {
      "cell_type": "code",
      "metadata": {
        "id": "WxpNN_K_2z8W"
      },
      "source": [
        "#tore Headsize in X and Brain Weight in Y\n",
        "X = dataset['Head Size(cm^3)']\n",
        "Y = dataset['Brain Weight(grams)']"
      ],
      "execution_count": 4,
      "outputs": []
    },
    {
      "cell_type": "code",
      "metadata": {
        "id": "R73yQn383A9V"
      },
      "source": [
        "#find mean of X and Y\n",
        "x_mean = np.mean(X)\n",
        "y_mean = np.mean(Y)"
      ],
      "execution_count": 5,
      "outputs": []
    },
    {
      "cell_type": "code",
      "metadata": {
        "id": "0R1oWDXa3El2"
      },
      "source": [
        "#total values in X\n",
        "n = len(X)"
      ],
      "execution_count": 6,
      "outputs": []
    },
    {
      "cell_type": "code",
      "metadata": {
        "id": "uWCDsD_F3P3E"
      },
      "source": [
        "#linear regression\n",
        "numerator = 0\n",
        "denominator = 0\n",
        "\n",
        "for i in range(n):\n",
        "  numerator += (X[i] - x_mean) * (Y[i] - y_mean)\n",
        "  denominator += (X[i] - x_mean) **2\n",
        "\n",
        "m = numerator / denominator\n",
        "c = y_mean - (m * x_mean)"
      ],
      "execution_count": 7,
      "outputs": []
    },
    {
      "cell_type": "code",
      "metadata": {
        "colab": {
          "base_uri": "https://localhost:8080/"
        },
        "id": "vvFqyeXH3jNb",
        "outputId": "7974b460-4bd6-44ee-b8b4-75bb5defbabc"
      },
      "source": [
        "#value of m\n",
        "m"
      ],
      "execution_count": 8,
      "outputs": [
        {
          "output_type": "execute_result",
          "data": {
            "text/plain": [
              "0.26342933948939945"
            ]
          },
          "metadata": {},
          "execution_count": 8
        }
      ]
    },
    {
      "cell_type": "code",
      "metadata": {
        "colab": {
          "base_uri": "https://localhost:8080/"
        },
        "id": "VN2vx11W3l_7",
        "outputId": "c0b03b02-9b2f-453e-8013-39251a011af3"
      },
      "source": [
        "#value of c\n",
        "c"
      ],
      "execution_count": 9,
      "outputs": [
        {
          "output_type": "execute_result",
          "data": {
            "text/plain": [
              "325.57342104944223"
            ]
          },
          "metadata": {},
          "execution_count": 9
        }
      ]
    },
    {
      "cell_type": "code",
      "metadata": {
        "id": "vcNBK7sc3oxC"
      },
      "source": [
        "#find maximum and minumum of X\n",
        "x_max = np.max(X)\n",
        "x_min = np.min(X)\n",
        "\n",
        "#values of x and y\n",
        "x = np.linspace(x_min, x_max, 1000, endpoint=True)\n",
        "y = c + m * x"
      ],
      "execution_count": 10,
      "outputs": []
    },
    {
      "cell_type": "code",
      "metadata": {
        "colab": {
          "base_uri": "https://localhost:8080/",
          "height": 279
        },
        "id": "qN7h7B7B4Yl7",
        "outputId": "1cf91346-7bc6-4c4c-ad62-ee3fb5aac994"
      },
      "source": [
        "#plot the line\n",
        "plt.plot(x,y, color='blue', label='Linear Regression')\n",
        "\n",
        "#plot the data points\n",
        "plt.scatter(X,Y, color='red', label='Data Points')\n",
        "\n",
        "#x-axis and y-axis label\n",
        "plt.xlabel('HS(cm^3)')\n",
        "plt.ylabel('BW(g)')\n",
        "\n",
        "#legend\n",
        "plt.legend()\n",
        "plt.show()\n"
      ],
      "execution_count": 11,
      "outputs": [
        {
          "output_type": "display_data",
          "data": {
            "image/png": "[encoded data removed]",
            "text/plain": [
              "<Figure size 432x288 with 1 Axes>"
            ]
          },
          "metadata": {
            "needs_background": "light"
          }
        }
      ]
    },
    {
      "cell_type": "code",
      "metadata": {
        "colab": {
          "base_uri": "https://localhost:8080/"
        },
        "id": "36j4Hfnq5ezR",
        "outputId": "4575b2b7-ef35-4e60-98a1-5d7270cecd98"
      },
      "source": [
        "#Let's find the RMSE\n",
        "rmse = 0\n",
        "for i in range(n):\n",
        "  y_pred = c + (m * X[i])\n",
        "  rmse += (Y[i] - y_pred) **2\n",
        "\n",
        "rmse = np.sqrt(rmse/n)\n",
        "print(\"Root Mean Square Error is: \",rmse)"
      ],
      "execution_count": 12,
      "outputs": [
        {
          "output_type": "stream",
          "name": "stdout",
          "text": [
            "Root Mean Square Error is:  72.1206213783709\n"
          ]
        }
      ]
    },
    {
      "cell_type": "code",
      "metadata": {
        "colab": {
          "base_uri": "https://localhost:8080/"
        },
        "id": "yXL2HXgT5f8f",
        "outputId": "301a6398-0d32-432d-a47f-adee94411e37"
      },
      "source": [
        "#R^2 score to find accuracy\n",
        "a = 0\n",
        "b = 0\n",
        "\n",
        "for i in range(n):\n",
        "  y_pred = c + (m * X[i])\n",
        "  a += (Y[i] - y_mean) **2\n",
        "  b += (Y[i] - y_pred) **2\n",
        "\n",
        "score = 1 - (b/a)\n",
        "print(\"R^2 score is: \",score)"
      ],
      "execution_count": 13,
      "outputs": [
        {
          "output_type": "stream",
          "name": "stdout",
          "text": [
            "R^2 score is:  0.6393117199570003\n"
          ]
        }
      ]
    }
  ]
}
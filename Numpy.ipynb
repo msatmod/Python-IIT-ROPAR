{
  "nbformat": 4,
  "nbformat_minor": 0,
  "metadata": {
    "colab": {
      "name": "Numpy.ipynb",
      "provenance": []
    },
    "kernelspec": {
      "name": "python3",
      "display_name": "Python 3"
    },
    "language_info": {
      "name": "python"
    }
  },
  "cells": [
    {
      "cell_type": "markdown",
      "metadata": {
        "id": "TbjCiCEs8coQ"
      },
      "source": [
        "#Numpy\n",
        "It is a package or module to perform specific computing in python efficienlty. It works only numerical data."
      ]
    },
    {
      "cell_type": "code",
      "metadata": {
        "id": "yVd5tEuuVAxx"
      },
      "source": [
        "#installing numpy\n",
        "!pip install -q numpy"
      ],
      "execution_count": 1,
      "outputs": []
    },
    {
      "cell_type": "code",
      "metadata": {
        "id": "6AgGZKIu9NNS"
      },
      "source": [
        "#Numpy Arrays\n",
        "\n",
        "#list of put volume data in lacs\n",
        "put_vol = [52.89, 45.14, 63.84, 77.1, 74.6]\n",
        "\n",
        "#list of call volume in lacs\n",
        "call_vol = [49.41, 50.45, 59.11, 80.49, 65.11]"
      ],
      "execution_count": 2,
      "outputs": []
    },
    {
      "cell_type": "code",
      "metadata": {
        "colab": {
          "base_uri": "https://localhost:8080/"
        },
        "id": "84BBL-tY8-Fy",
        "outputId": "975e9b82-cfc1-4b9c-c6e8-ee5bedccb12e"
      },
      "source": [
        "import numpy as np\n",
        "\n",
        "n_put_vol = np.array(put_vol)\n",
        "n_call_vol = np.array(call_vol)\n",
        "\n",
        "n_put_vol/n_call_vol"
      ],
      "execution_count": 3,
      "outputs": [
        {
          "output_type": "execute_result",
          "data": {
            "text/plain": [
              "array([1.07043109, 0.89474727, 1.0800203 , 0.95788297, 1.14575334])"
            ]
          },
          "metadata": {},
          "execution_count": 3
        }
      ]
    },
    {
      "cell_type": "code",
      "metadata": {
        "colab": {
          "base_uri": "https://localhost:8080/"
        },
        "id": "IyOS1i8I93Y6",
        "outputId": "bbb99c7d-6588-40f0-ff55-8e001312e305"
      },
      "source": [
        "#rank 1 array\n",
        "arr1=np.array([1,2,3])\n",
        "print (arr1,type(arr1))"
      ],
      "execution_count": 4,
      "outputs": [
        {
          "output_type": "stream",
          "name": "stdout",
          "text": [
            "[1 2 3] <class 'numpy.ndarray'>\n"
          ]
        }
      ]
    },
    {
      "cell_type": "code",
      "metadata": {
        "colab": {
          "base_uri": "https://localhost:8080/"
        },
        "id": "68XhA9OT-h7-",
        "outputId": "8b60287b-2353-4beb-c042-c8ee9c6ea299"
      },
      "source": [
        "#shape gives the shape of the array\n",
        "arr1.shape"
      ],
      "execution_count": 5,
      "outputs": [
        {
          "output_type": "execute_result",
          "data": {
            "text/plain": [
              "(3,)"
            ]
          },
          "metadata": {},
          "execution_count": 5
        }
      ]
    },
    {
      "cell_type": "code",
      "metadata": {
        "colab": {
          "base_uri": "https://localhost:8080/"
        },
        "id": "RavDqu96-vX4",
        "outputId": "c6cf05ef-fdba-44ef-fd66-f6e4a56f24aa"
      },
      "source": [
        "arr1[0],arr1[1],arr1[2]"
      ],
      "execution_count": 6,
      "outputs": [
        {
          "output_type": "execute_result",
          "data": {
            "text/plain": [
              "(1, 2, 3)"
            ]
          },
          "metadata": {},
          "execution_count": 6
        }
      ]
    },
    {
      "cell_type": "code",
      "metadata": {
        "id": "Oxst111Q-6Yp",
        "colab": {
          "base_uri": "https://localhost:8080/"
        },
        "outputId": "b40f60eb-3ed8-48e9-cdbf-b194af71a269"
      },
      "source": [
        "arr1[1]=4\n",
        "arr1"
      ],
      "execution_count": 7,
      "outputs": [
        {
          "output_type": "execute_result",
          "data": {
            "text/plain": [
              "array([1, 4, 3])"
            ]
          },
          "metadata": {},
          "execution_count": 7
        }
      ]
    },
    {
      "cell_type": "code",
      "metadata": {
        "colab": {
          "base_uri": "https://localhost:8080/"
        },
        "id": "RMreqZXE_J3S",
        "outputId": "45363809-792a-4b2a-fe15-3f0fa66158a0"
      },
      "source": [
        "#rank 2 array\n",
        "arr2 =np.array([[1,2,3],[4,5,6]])\n",
        "arr2"
      ],
      "execution_count": 8,
      "outputs": [
        {
          "output_type": "execute_result",
          "data": {
            "text/plain": [
              "array([[1, 2, 3],\n",
              "       [4, 5, 6]])"
            ]
          },
          "metadata": {},
          "execution_count": 8
        }
      ]
    },
    {
      "cell_type": "code",
      "metadata": {
        "colab": {
          "base_uri": "https://localhost:8080/"
        },
        "id": "rnGizj5d_qA0",
        "outputId": "dff5c4d0-d7d1-4b81-c166-6625a0e55618"
      },
      "source": [
        "arr2.shape"
      ],
      "execution_count": 9,
      "outputs": [
        {
          "output_type": "execute_result",
          "data": {
            "text/plain": [
              "(2, 3)"
            ]
          },
          "metadata": {},
          "execution_count": 9
        }
      ]
    },
    {
      "cell_type": "code",
      "metadata": {
        "colab": {
          "base_uri": "https://localhost:8080/"
        },
        "id": "tPbydDCM_zzT",
        "outputId": "b393e351-f554-4b88-8336-e58197af6773"
      },
      "source": [
        "#zeros(shape, dtype): returns an array of given shape and dtype, filled with zeroes\n",
        "#creating 1-d array\n",
        "np.zeros(5) "
      ],
      "execution_count": 10,
      "outputs": [
        {
          "output_type": "execute_result",
          "data": {
            "text/plain": [
              "array([0., 0., 0., 0., 0.])"
            ]
          },
          "metadata": {},
          "execution_count": 10
        }
      ]
    },
    {
      "cell_type": "code",
      "metadata": {
        "colab": {
          "base_uri": "https://localhost:8080/"
        },
        "id": "TwauTtKrAFQs",
        "outputId": "27576040-c02c-4a8d-a45e-a82e7282d596"
      },
      "source": [
        "#creating array of ones\n",
        "np.ones(5)"
      ],
      "execution_count": 11,
      "outputs": [
        {
          "output_type": "execute_result",
          "data": {
            "text/plain": [
              "array([1., 1., 1., 1., 1.])"
            ]
          },
          "metadata": {},
          "execution_count": 11
        }
      ]
    },
    {
      "cell_type": "code",
      "metadata": {
        "colab": {
          "base_uri": "https://localhost:8080/"
        },
        "id": "oIZUiTaXAL2v",
        "outputId": "0a4ce429-1246-4e22-882c-e11d16ac0ed1"
      },
      "source": [
        "#create a 2D array.\n",
        "np.zeros((2,3))"
      ],
      "execution_count": 12,
      "outputs": [
        {
          "output_type": "execute_result",
          "data": {
            "text/plain": [
              "array([[0., 0., 0.],\n",
              "       [0., 0., 0.]])"
            ]
          },
          "metadata": {},
          "execution_count": 12
        }
      ]
    },
    {
      "cell_type": "code",
      "metadata": {
        "colab": {
          "base_uri": "https://localhost:8080/"
        },
        "id": "fjl2palGAaWj",
        "outputId": "4dddf3a4-034b-4716-fa85-55658f237eef"
      },
      "source": [
        "#ones(shape, dtype): returns an array of given shape and dtype, filled with ones \n",
        "np.ones((2,3))"
      ],
      "execution_count": 13,
      "outputs": [
        {
          "output_type": "execute_result",
          "data": {
            "text/plain": [
              "array([[1., 1., 1.],\n",
              "       [1., 1., 1.]])"
            ]
          },
          "metadata": {},
          "execution_count": 13
        }
      ]
    },
    {
      "cell_type": "code",
      "metadata": {
        "colab": {
          "base_uri": "https://localhost:8080/"
        },
        "id": "cfH_kzoaAp3L",
        "outputId": "93651274-f132-4faa-81be-d7e57f57bddf"
      },
      "source": [
        "#full(shape, fill_value): returns an array of given shape and dtype, filled with fill_value given as parameter\n",
        "np.full((2,3),1)"
      ],
      "execution_count": 14,
      "outputs": [
        {
          "output_type": "execute_result",
          "data": {
            "text/plain": [
              "array([[1, 1, 1],\n",
              "       [1, 1, 1]])"
            ]
          },
          "metadata": {},
          "execution_count": 14
        }
      ]
    },
    {
      "cell_type": "code",
      "metadata": {
        "colab": {
          "base_uri": "https://localhost:8080/"
        },
        "id": "BdtrdpL1A0nI",
        "outputId": "aea52394-7589-4562-ab96-2fe66fc4ea8a"
      },
      "source": [
        "np.full((5,5),58)"
      ],
      "execution_count": 15,
      "outputs": [
        {
          "output_type": "execute_result",
          "data": {
            "text/plain": [
              "array([[58, 58, 58, 58, 58],\n",
              "       [58, 58, 58, 58, 58],\n",
              "       [58, 58, 58, 58, 58],\n",
              "       [58, 58, 58, 58, 58],\n",
              "       [58, 58, 58, 58, 58]])"
            ]
          },
          "metadata": {},
          "execution_count": 15
        }
      ]
    },
    {
      "cell_type": "code",
      "metadata": {
        "colab": {
          "base_uri": "https://localhost:8080/"
        },
        "id": "5_oUZ-WXA86C",
        "outputId": "d9975d6e-8810-4dd0-f4d1-33d97a7c5d40"
      },
      "source": [
        "#arange([start,] stop-1, [step]): This returns an array with evenly spaced values within a given interval\n",
        "np.arange(5)"
      ],
      "execution_count": 16,
      "outputs": [
        {
          "output_type": "execute_result",
          "data": {
            "text/plain": [
              "array([0, 1, 2, 3, 4])"
            ]
          },
          "metadata": {},
          "execution_count": 16
        }
      ]
    },
    {
      "cell_type": "code",
      "metadata": {
        "colab": {
          "base_uri": "https://localhost:8080/"
        },
        "id": "u1Fi0NkQBEy_",
        "outputId": "fd691263-2ed8-44c3-a58d-eaf0bd3f3f66"
      },
      "source": [
        "np.arange(1,5,0.5)"
      ],
      "execution_count": 17,
      "outputs": [
        {
          "output_type": "execute_result",
          "data": {
            "text/plain": [
              "array([1. , 1.5, 2. , 2.5, 3. , 3.5, 4. , 4.5])"
            ]
          },
          "metadata": {},
          "execution_count": 17
        }
      ]
    },
    {
      "cell_type": "code",
      "metadata": {
        "colab": {
          "base_uri": "https://localhost:8080/"
        },
        "id": "Q6m79gvEBb3x",
        "outputId": "512ba55f-8dd8-40ac-e595-5c6213db1267"
      },
      "source": [
        "#linspace(start, stop, num, endpoint): returns evenly spaced numbers over a specified interval\n",
        "np.linspace(2.0, 3.0, num=10)\n"
      ],
      "execution_count": 18,
      "outputs": [
        {
          "output_type": "execute_result",
          "data": {
            "text/plain": [
              "array([2.        , 2.11111111, 2.22222222, 2.33333333, 2.44444444,\n",
              "       2.55555556, 2.66666667, 2.77777778, 2.88888889, 3.        ])"
            ]
          },
          "metadata": {},
          "execution_count": 18
        }
      ]
    },
    {
      "cell_type": "code",
      "metadata": {
        "colab": {
          "base_uri": "https://localhost:8080/"
        },
        "id": "sA9l4sHjCDge",
        "outputId": "0783d13d-9bd2-442a-9318-4fd30afdced1"
      },
      "source": [
        "np.linspace(2.0, 3.0, num=10, endpoint=False)"
      ],
      "execution_count": 19,
      "outputs": [
        {
          "output_type": "execute_result",
          "data": {
            "text/plain": [
              "array([2. , 2.1, 2.2, 2.3, 2.4, 2.5, 2.6, 2.7, 2.8, 2.9])"
            ]
          },
          "metadata": {},
          "execution_count": 19
        }
      ]
    },
    {
      "cell_type": "code",
      "metadata": {
        "colab": {
          "base_uri": "https://localhost:8080/"
        },
        "id": "ODqct8EOC5kp",
        "outputId": "86d95578-55b9-45f3-a326-e00325167e52"
      },
      "source": [
        "np.linspace(2.0, 3.0, num=10, endpoint=True)"
      ],
      "execution_count": 20,
      "outputs": [
        {
          "output_type": "execute_result",
          "data": {
            "text/plain": [
              "array([2.        , 2.11111111, 2.22222222, 2.33333333, 2.44444444,\n",
              "       2.55555556, 2.66666667, 2.77777778, 2.88888889, 3.        ])"
            ]
          },
          "metadata": {},
          "execution_count": 20
        }
      ]
    },
    {
      "cell_type": "code",
      "metadata": {
        "colab": {
          "base_uri": "https://localhost:8080/"
        },
        "id": "JWLBh1N7C-g5",
        "outputId": "33013c6e-b16c-4892-e5e0-6db7d05183a3"
      },
      "source": [
        "np.identity(5)"
      ],
      "execution_count": 21,
      "outputs": [
        {
          "output_type": "execute_result",
          "data": {
            "text/plain": [
              "array([[1., 0., 0., 0., 0.],\n",
              "       [0., 1., 0., 0., 0.],\n",
              "       [0., 0., 1., 0., 0.],\n",
              "       [0., 0., 0., 1., 0.],\n",
              "       [0., 0., 0., 0., 1.]])"
            ]
          },
          "metadata": {},
          "execution_count": 21
        }
      ]
    },
    {
      "cell_type": "code",
      "metadata": {
        "colab": {
          "base_uri": "https://localhost:8080/"
        },
        "id": "PKW20rFvDMDF",
        "outputId": "4f1a8f9d-d486-4173-ec0c-9fc6a6a81d26"
      },
      "source": [
        "np.eye(4,k=0)"
      ],
      "execution_count": 22,
      "outputs": [
        {
          "output_type": "execute_result",
          "data": {
            "text/plain": [
              "array([[1., 0., 0., 0.],\n",
              "       [0., 1., 0., 0.],\n",
              "       [0., 0., 1., 0.],\n",
              "       [0., 0., 0., 1.]])"
            ]
          },
          "metadata": {},
          "execution_count": 22
        }
      ]
    },
    {
      "cell_type": "markdown",
      "metadata": {
        "id": "WrUaGXYDD71q"
      },
      "source": [
        "#Random Sampling\n"
      ]
    },
    {
      "cell_type": "code",
      "metadata": {
        "colab": {
          "base_uri": "https://localhost:8080/"
        },
        "id": "onAEu-X2Dh7b",
        "outputId": "543cfc9a-afa8-4229-f9c4-ae1ed9738d48"
      },
      "source": [
        "#rand():It is used to create an array of a given shape and populate it with random samples,\n",
        "#from a uniform distribution over[0,1]. It takes only positive arguments\n",
        "\n",
        "np.random.rand()"
      ],
      "execution_count": 23,
      "outputs": [
        {
          "output_type": "execute_result",
          "data": {
            "text/plain": [
              "0.4607722051542138"
            ]
          },
          "metadata": {},
          "execution_count": 23
        }
      ]
    },
    {
      "cell_type": "code",
      "metadata": {
        "colab": {
          "base_uri": "https://localhost:8080/"
        },
        "id": "cmEks1U-EUZ4",
        "outputId": "e9b4260b-ba80-4387-87f8-2ac3ab3ed565"
      },
      "source": [
        "#1D array\n",
        "np.random.rand(4)"
      ],
      "execution_count": 24,
      "outputs": [
        {
          "output_type": "execute_result",
          "data": {
            "text/plain": [
              "array([0.88220406, 0.80037723, 0.63179821, 0.91207296])"
            ]
          },
          "metadata": {},
          "execution_count": 24
        }
      ]
    },
    {
      "cell_type": "code",
      "metadata": {
        "colab": {
          "base_uri": "https://localhost:8080/"
        },
        "id": "9ZeAPaEcEiON",
        "outputId": "3d06e300-5ba3-4dc4-c578-e6df2def9790"
      },
      "source": [
        "#2D array\n",
        "np.random.rand(2,3)"
      ],
      "execution_count": 25,
      "outputs": [
        {
          "output_type": "execute_result",
          "data": {
            "text/plain": [
              "array([[0.18326876, 0.82929329, 0.56694232],\n",
              "       [0.69916676, 0.75433149, 0.71860433]])"
            ]
          },
          "metadata": {},
          "execution_count": 25
        }
      ]
    },
    {
      "cell_type": "code",
      "metadata": {
        "colab": {
          "base_uri": "https://localhost:8080/"
        },
        "id": "C8BTAZB9Eqrb",
        "outputId": "8abb4a1a-9a70-42ab-9801-645ac83cfc7a"
      },
      "source": [
        "#randn():\n",
        "np.random.randn()"
      ],
      "execution_count": 26,
      "outputs": [
        {
          "output_type": "execute_result",
          "data": {
            "text/plain": [
              "0.505065865009097"
            ]
          },
          "metadata": {},
          "execution_count": 26
        }
      ]
    },
    {
      "cell_type": "code",
      "metadata": {
        "colab": {
          "base_uri": "https://localhost:8080/"
        },
        "id": "g1_Olj9KE2sD",
        "outputId": "24eb879e-a0e7-4615-ddb2-65868585d8ec"
      },
      "source": [
        "np.random.randn(2,3)"
      ],
      "execution_count": 27,
      "outputs": [
        {
          "output_type": "execute_result",
          "data": {
            "text/plain": [
              "array([[-0.45407581, -1.50394114, -0.65468671],\n",
              "       [ 1.08829307, -0.94032231, -2.28713492]])"
            ]
          },
          "metadata": {},
          "execution_count": 27
        }
      ]
    },
    {
      "cell_type": "code",
      "metadata": {
        "colab": {
          "base_uri": "https://localhost:8080/"
        },
        "id": "VrR4w4DWFDtS",
        "outputId": "55dac794-67ba-454e-a426-0befa3792f1e"
      },
      "source": [
        "#randint():\n",
        "np.random.randint(50)"
      ],
      "execution_count": 28,
      "outputs": [
        {
          "output_type": "execute_result",
          "data": {
            "text/plain": [
              "2"
            ]
          },
          "metadata": {},
          "execution_count": 28
        }
      ]
    },
    {
      "cell_type": "code",
      "metadata": {
        "colab": {
          "base_uri": "https://localhost:8080/"
        },
        "id": "BH_LP1tCFPzD",
        "outputId": "e2d968c8-17a7-4a2b-dfbf-46895bf3ef7d"
      },
      "source": [
        "#1D array (start, end, size)\n",
        "np.random.randint(6,12,3)"
      ],
      "execution_count": 29,
      "outputs": [
        {
          "output_type": "execute_result",
          "data": {
            "text/plain": [
              "array([11, 10,  7])"
            ]
          },
          "metadata": {},
          "execution_count": 29
        }
      ]
    },
    {
      "cell_type": "markdown",
      "metadata": {
        "id": "bSe2BFulGHqr"
      },
      "source": [
        "#Array attributes and methods"
      ]
    },
    {
      "cell_type": "code",
      "metadata": {
        "colab": {
          "base_uri": "https://localhost:8080/"
        },
        "id": "w4tv4nHaGCmu",
        "outputId": "aabe58c2-94cc-4423-bf9f-bf7eeac9724f"
      },
      "source": [
        "#ndim\n",
        "n_call_vol.ndim"
      ],
      "execution_count": 30,
      "outputs": [
        {
          "output_type": "execute_result",
          "data": {
            "text/plain": [
              "1"
            ]
          },
          "metadata": {},
          "execution_count": 30
        }
      ]
    },
    {
      "cell_type": "code",
      "metadata": {
        "colab": {
          "base_uri": "https://localhost:8080/"
        },
        "id": "pmfjCWHeGZNj",
        "outputId": "4bafef7d-df0f-4534-c584-76c6edd940d7"
      },
      "source": [
        "arr2.ndim"
      ],
      "execution_count": 31,
      "outputs": [
        {
          "output_type": "execute_result",
          "data": {
            "text/plain": [
              "2"
            ]
          },
          "metadata": {},
          "execution_count": 31
        }
      ]
    },
    {
      "cell_type": "code",
      "metadata": {
        "colab": {
          "base_uri": "https://localhost:8080/"
        },
        "id": "9qmWs2TkGhel",
        "outputId": "f62a0c91-c118-4f67-a938-c1acbfe08eff"
      },
      "source": [
        "arr2.shape"
      ],
      "execution_count": 32,
      "outputs": [
        {
          "output_type": "execute_result",
          "data": {
            "text/plain": [
              "(2, 3)"
            ]
          },
          "metadata": {},
          "execution_count": 32
        }
      ]
    },
    {
      "cell_type": "markdown",
      "metadata": {
        "id": "-Ztnpiw6GseC"
      },
      "source": [
        "#Array Indexing\n",
        "numpy offers several ways to index into arrays"
      ]
    },
    {
      "cell_type": "code",
      "metadata": {
        "id": "ch0kBRXwGlkM"
      },
      "source": [
        "#slicing\n",
        "arr1=np.array([[1,2,3,4],[5,6,7,8],[9,10,11,12]])"
      ],
      "execution_count": 33,
      "outputs": []
    },
    {
      "cell_type": "code",
      "metadata": {
        "colab": {
          "base_uri": "https://localhost:8080/"
        },
        "id": "EyEPxu5yHMBq",
        "outputId": "e2591546-a0a1-4c0a-8601-d73b8f7a3479"
      },
      "source": [
        "arr2=arr1[:2,1:3]\n",
        "arr2"
      ],
      "execution_count": 34,
      "outputs": [
        {
          "output_type": "execute_result",
          "data": {
            "text/plain": [
              "array([[2, 3],\n",
              "       [6, 7]])"
            ]
          },
          "metadata": {},
          "execution_count": 34
        }
      ]
    },
    {
      "cell_type": "code",
      "metadata": {
        "colab": {
          "base_uri": "https://localhost:8080/"
        },
        "id": "o8ZE7ghTHcj0",
        "outputId": "2388d83f-9bcc-4a55-dab3-2e514d64e0d3"
      },
      "source": [
        "x=np.array([1,2])\n",
        "print (x.dtype)"
      ],
      "execution_count": 35,
      "outputs": [
        {
          "output_type": "stream",
          "name": "stdout",
          "text": [
            "int64\n"
          ]
        }
      ]
    },
    {
      "cell_type": "code",
      "metadata": {
        "colab": {
          "base_uri": "https://localhost:8080/"
        },
        "id": "BVBArDrFH4JC",
        "outputId": "1c72298b-cea0-423c-d1a9-76ab2fe96f13"
      },
      "source": [
        "ar = np.arange(12)\n",
        "ar"
      ],
      "execution_count": 36,
      "outputs": [
        {
          "output_type": "execute_result",
          "data": {
            "text/plain": [
              "array([ 0,  1,  2,  3,  4,  5,  6,  7,  8,  9, 10, 11])"
            ]
          },
          "metadata": {},
          "execution_count": 36
        }
      ]
    },
    {
      "cell_type": "code",
      "metadata": {
        "colab": {
          "base_uri": "https://localhost:8080/"
        },
        "id": "W5NZMW_yINHs",
        "outputId": "e7ca0319-b345-40b1-d59e-d4498efd29ca"
      },
      "source": [
        "np.reshape(ar,(3,4))"
      ],
      "execution_count": 37,
      "outputs": [
        {
          "output_type": "execute_result",
          "data": {
            "text/plain": [
              "array([[ 0,  1,  2,  3],\n",
              "       [ 4,  5,  6,  7],\n",
              "       [ 8,  9, 10, 11]])"
            ]
          },
          "metadata": {},
          "execution_count": 37
        }
      ]
    },
    {
      "cell_type": "code",
      "metadata": {
        "colab": {
          "base_uri": "https://localhost:8080/"
        },
        "id": "4Xu2TwYlIXzV",
        "outputId": "935fb9e8-781a-42a1-e647-9181f105d982"
      },
      "source": [
        "x = np.array([[1,2],[3,4]])\n",
        "y = np.array([[5,6],[7,8]])\n",
        "x+y"
      ],
      "execution_count": 38,
      "outputs": [
        {
          "output_type": "execute_result",
          "data": {
            "text/plain": [
              "array([[ 6,  8],\n",
              "       [10, 12]])"
            ]
          },
          "metadata": {},
          "execution_count": 38
        }
      ]
    },
    {
      "cell_type": "markdown",
      "metadata": {
        "id": "xHCBPq_CI5IM"
      },
      "source": [
        "#Broadcasting\n",
        "It is a powerful mechanism which allows numpy to work with arrays of different shapes when performing arithmetic operations. "
      ]
    },
    {
      "cell_type": "code",
      "metadata": {
        "id": "DmDz4ZaaIxUf"
      },
      "source": [
        "x = np.array([[1,2,3],[4,5,6],[7,8,9],[10,11,12]])"
      ],
      "execution_count": 39,
      "outputs": []
    },
    {
      "cell_type": "code",
      "metadata": {
        "id": "F2F9ucNjJc2b"
      },
      "source": [
        "v = np.array([1,0,1])"
      ],
      "execution_count": 40,
      "outputs": []
    },
    {
      "cell_type": "code",
      "metadata": {
        "colab": {
          "base_uri": "https://localhost:8080/"
        },
        "id": "ZM4dFQEcJyIL",
        "outputId": "ccee4f76-5d93-4f75-ada9-eaecb3519aa9"
      },
      "source": [
        "y = np.empty_like(x)\n",
        "for i in range(4):\n",
        "  y[i,:] = x[i,:]+v\n",
        "y"
      ],
      "execution_count": 41,
      "outputs": [
        {
          "output_type": "execute_result",
          "data": {
            "text/plain": [
              "array([[ 2,  2,  4],\n",
              "       [ 5,  5,  7],\n",
              "       [ 8,  8, 10],\n",
              "       [11, 11, 13]])"
            ]
          },
          "metadata": {},
          "execution_count": 41
        }
      ]
    }
  ]
}
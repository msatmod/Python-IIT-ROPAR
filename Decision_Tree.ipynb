{
  "nbformat": 4,
  "nbformat_minor": 0,
  "metadata": {
    "colab": {
      "name": "Decision_Tree.ipynb",
      "provenance": [],
      "collapsed_sections": [],
      "authorship_tag": "ABX9TyNd7v0bmxcK1MUxl0zZagmi"
    },
    "kernelspec": {
      "name": "python3",
      "display_name": "Python 3"
    },
    "language_info": {
      "name": "python"
    }
  },
  "cells": [
    {
      "cell_type": "markdown",
      "metadata": {
        "id": "EolCXZZIDUOD"
      },
      "source": [
        "#Decision Tree\n",
        "A tree shaped algorithm to find the coarse of action. Each node in the tree represnt a action.\n",
        "\n",
        "\n",
        "\n",
        "##Problem Statement\n",
        "\n",
        "Use Machine Learning to Predict the selling price of houses baesd on some economic factors by using Decision Tree Model"
      ]
    },
    {
      "cell_type": "code",
      "metadata": {
        "id": "7-MOXZkrECu4"
      },
      "source": [
        "#import libraries\n",
        "import numpy as np\n",
        "import pandas as pd\n",
        "import matplotlib.pyplot as plt"
      ],
      "execution_count": 1,
      "outputs": []
    },
    {
      "cell_type": "code",
      "metadata": {
        "id": "JCOlBv2iEJjS",
        "colab": {
          "base_uri": "https://localhost:8080/",
          "height": 204
        },
        "outputId": "5685730f-ec47-4a1d-dfaa-0744e5fe0b89"
      },
      "source": [
        "#read dataset and view dataset\n",
        "boston = pd.read_csv('datasets/Boston.csv')\n",
        "boston.head()"
      ],
      "execution_count": 2,
      "outputs": [
        {
          "output_type": "execute_result",
          "data": {
            "text/html": [
              "<div>\n",
              "<style scoped>\n",
              "    .dataframe tbody tr th:only-of-type {\n",
              "        vertical-align: middle;\n",
              "    }\n",
              "\n",
              "    .dataframe tbody tr th {\n",
              "        vertical-align: top;\n",
              "    }\n",
              "\n",
              "    .dataframe thead th {\n",
              "        text-align: right;\n",
              "    }\n",
              "</style>\n",
              "<table border=\"1\" class=\"dataframe\">\n",
              "  <thead>\n",
              "    <tr style=\"text-align: right;\">\n",
              "      <th></th>\n",
              "      <th>Unnamed: 0</th>\n",
              "      <th>crim</th>\n",
              "      <th>zn</th>\n",
              "      <th>indus</th>\n",
              "      <th>chas</th>\n",
              "      <th>nox</th>\n",
              "      <th>rm</th>\n",
              "      <th>age</th>\n",
              "      <th>dis</th>\n",
              "      <th>rad</th>\n",
              "      <th>tax</th>\n",
              "      <th>ptratio</th>\n",
              "      <th>black</th>\n",
              "      <th>lstat</th>\n",
              "      <th>medv</th>\n",
              "    </tr>\n",
              "  </thead>\n",
              "  <tbody>\n",
              "    <tr>\n",
              "      <th>0</th>\n",
              "      <td>1</td>\n",
              "      <td>0.00632</td>\n",
              "      <td>18.0</td>\n",
              "      <td>2.31</td>\n",
              "      <td>0</td>\n",
              "      <td>0.538</td>\n",
              "      <td>6.575</td>\n",
              "      <td>65.2</td>\n",
              "      <td>4.0900</td>\n",
              "      <td>1</td>\n",
              "      <td>296</td>\n",
              "      <td>15.3</td>\n",
              "      <td>396.90</td>\n",
              "      <td>4.98</td>\n",
              "      <td>24.0</td>\n",
              "    </tr>\n",
              "    <tr>\n",
              "      <th>1</th>\n",
              "      <td>2</td>\n",
              "      <td>0.02731</td>\n",
              "      <td>0.0</td>\n",
              "      <td>7.07</td>\n",
              "      <td>0</td>\n",
              "      <td>0.469</td>\n",
              "      <td>6.421</td>\n",
              "      <td>78.9</td>\n",
              "      <td>4.9671</td>\n",
              "      <td>2</td>\n",
              "      <td>242</td>\n",
              "      <td>17.8</td>\n",
              "      <td>396.90</td>\n",
              "      <td>9.14</td>\n",
              "      <td>21.6</td>\n",
              "    </tr>\n",
              "    <tr>\n",
              "      <th>2</th>\n",
              "      <td>3</td>\n",
              "      <td>0.02729</td>\n",
              "      <td>0.0</td>\n",
              "      <td>7.07</td>\n",
              "      <td>0</td>\n",
              "      <td>0.469</td>\n",
              "      <td>7.185</td>\n",
              "      <td>61.1</td>\n",
              "      <td>4.9671</td>\n",
              "      <td>2</td>\n",
              "      <td>242</td>\n",
              "      <td>17.8</td>\n",
              "      <td>392.83</td>\n",
              "      <td>4.03</td>\n",
              "      <td>34.7</td>\n",
              "    </tr>\n",
              "    <tr>\n",
              "      <th>3</th>\n",
              "      <td>4</td>\n",
              "      <td>0.03237</td>\n",
              "      <td>0.0</td>\n",
              "      <td>2.18</td>\n",
              "      <td>0</td>\n",
              "      <td>0.458</td>\n",
              "      <td>6.998</td>\n",
              "      <td>45.8</td>\n",
              "      <td>6.0622</td>\n",
              "      <td>3</td>\n",
              "      <td>222</td>\n",
              "      <td>18.7</td>\n",
              "      <td>394.63</td>\n",
              "      <td>2.94</td>\n",
              "      <td>33.4</td>\n",
              "    </tr>\n",
              "    <tr>\n",
              "      <th>4</th>\n",
              "      <td>5</td>\n",
              "      <td>0.06905</td>\n",
              "      <td>0.0</td>\n",
              "      <td>2.18</td>\n",
              "      <td>0</td>\n",
              "      <td>0.458</td>\n",
              "      <td>7.147</td>\n",
              "      <td>54.2</td>\n",
              "      <td>6.0622</td>\n",
              "      <td>3</td>\n",
              "      <td>222</td>\n",
              "      <td>18.7</td>\n",
              "      <td>396.90</td>\n",
              "      <td>5.33</td>\n",
              "      <td>36.2</td>\n",
              "    </tr>\n",
              "  </tbody>\n",
              "</table>\n",
              "</div>"
            ],
            "text/plain": [
              "   Unnamed: 0     crim    zn  indus  chas  ...  tax  ptratio   black  lstat  medv\n",
              "0           1  0.00632  18.0   2.31     0  ...  296     15.3  396.90   4.98  24.0\n",
              "1           2  0.02731   0.0   7.07     0  ...  242     17.8  396.90   9.14  21.6\n",
              "2           3  0.02729   0.0   7.07     0  ...  242     17.8  392.83   4.03  34.7\n",
              "3           4  0.03237   0.0   2.18     0  ...  222     18.7  394.63   2.94  33.4\n",
              "4           5  0.06905   0.0   2.18     0  ...  222     18.7  396.90   5.33  36.2\n",
              "\n",
              "[5 rows x 15 columns]"
            ]
          },
          "metadata": {},
          "execution_count": 2
        }
      ]
    },
    {
      "cell_type": "code",
      "metadata": {
        "colab": {
          "base_uri": "https://localhost:8080/",
          "height": 279
        },
        "id": "jUMU28dyEV7R",
        "outputId": "9c55b913-3e4b-4de0-de10-a84a4a5efe9d"
      },
      "source": [
        "#visualization of dataset\n",
        "x = boston['rm']\n",
        "y = boston['medv']\n",
        "\n",
        "#plot\n",
        "plt.scatter(x,y,color='blue',marker='*')\n",
        "\n",
        "#labelling x and y axis\n",
        "plt.xlabel('Average Rooms')\n",
        "plt.ylabel('Median Values of the homes')\n",
        "plt.show()"
      ],
      "execution_count": 3,
      "outputs": [
        {
          "output_type": "display_data",
          "data": {
            "image/png": "[encoded data removed]",
            "text/plain": [
              "<Figure size 432x288 with 1 Axes>"
            ]
          },
          "metadata": {
            "needs_background": "light"
          }
        }
      ]
    },
    {
      "cell_type": "code",
      "metadata": {
        "id": "mdFtuK3HEVsx"
      },
      "source": [
        "X = pd.DataFrame(x)  #feature variable\n",
        "Y = pd.DataFrame(y)  #target variable"
      ],
      "execution_count": 4,
      "outputs": []
    },
    {
      "cell_type": "code",
      "metadata": {
        "id": "2WhWQoAsFcWW"
      },
      "source": [
        "#Dividing the data in two sets.\n",
        "from sklearn.model_selection import train_test_split\n",
        "\n",
        "X_train,X_test,Y_train,Y_test = train_test_split(X,Y,test_size=0.20)"
      ],
      "execution_count": 5,
      "outputs": []
    },
    {
      "cell_type": "code",
      "metadata": {
        "id": "Nxzg8k5SGN_S"
      },
      "source": [
        "#Building the model\n",
        "from sklearn.tree import DecisionTreeRegressor\n",
        "\n",
        "regressor = DecisionTreeRegressor(criterion='mse', random_state=100,max_depth=4,min_samples_leaf=1)"
      ],
      "execution_count": 6,
      "outputs": []
    },
    {
      "cell_type": "code",
      "metadata": {
        "colab": {
          "base_uri": "https://localhost:8080/"
        },
        "id": "wrg1sedJGNlf",
        "outputId": "c6000f18-32ae-493b-ea6f-dbc36b2f6b23"
      },
      "source": [
        "#Model training\n",
        "regressor.fit(X_train,Y_train)"
      ],
      "execution_count": 7,
      "outputs": [
        {
          "output_type": "execute_result",
          "data": {
            "text/plain": [
              "DecisionTreeRegressor(ccp_alpha=0.0, criterion='mse', max_depth=4,\n",
              "                      max_features=None, max_leaf_nodes=None,\n",
              "                      min_impurity_decrease=0.0, min_impurity_split=None,\n",
              "                      min_samples_leaf=1, min_samples_split=2,\n",
              "                      min_weight_fraction_leaf=0.0, presort='deprecated',\n",
              "                      random_state=100, splitter='best')"
            ]
          },
          "metadata": {},
          "execution_count": 7
        }
      ]
    },
    {
      "cell_type": "code",
      "metadata": {
        "id": "swGdWD0RHpNX"
      },
      "source": [
        "#Visualizing the tree\n",
        "from sklearn.tree import export_graphviz\n",
        "\n",
        "export_graphviz(regressor, out_file = 'regression_tree.dot')"
      ],
      "execution_count": 8,
      "outputs": []
    },
    {
      "cell_type": "code",
      "metadata": {
        "colab": {
          "base_uri": "https://localhost:8080/"
        },
        "id": "pY5SuvtvHpDw",
        "outputId": "aa4600f4-835d-4cd4-dd73-bad5cd3c9e3c"
      },
      "source": [
        "#Predicting the value\n",
        "y_pred = regressor.predict(X_test)\n",
        "y_pred\n"
      ],
      "execution_count": 9,
      "outputs": [
        {
          "output_type": "execute_result",
          "data": {
            "text/plain": [
              "array([19.64660633, 19.64660633, 33.93913043, 19.64660633, 19.64660633,\n",
              "       15.7453125 , 35.16666667, 15.7453125 , 15.7453125 , 25.93214286,\n",
              "       25.93214286, 19.64660633, 15.7453125 , 33.93913043, 19.64660633,\n",
              "       19.64660633, 19.64660633, 19.64660633, 19.64660633, 25.93214286,\n",
              "       19.64660633, 19.64660633, 19.64660633, 25.93214286, 19.64660633,\n",
              "       19.64660633, 19.64660633, 25.93214286, 19.64660633, 15.7453125 ,\n",
              "       25.93214286, 19.64660633, 19.64660633, 19.64660633, 19.64660633,\n",
              "       19.64660633, 33.93913043, 19.64660633, 15.7453125 , 15.7453125 ,\n",
              "       19.64660633, 19.64660633, 35.16666667, 35.16666667, 19.64660633,\n",
              "       15.7453125 , 19.64660633, 15.7453125 , 19.64660633, 19.64660633,\n",
              "       25.93214286, 25.93214286, 19.64660633, 19.64660633, 19.64660633,\n",
              "       19.64660633, 15.7453125 , 39.15      , 19.64660633, 19.64660633,\n",
              "       19.64660633, 15.7453125 , 19.64660633, 19.64660633, 25.93214286,\n",
              "       50.        , 10.4       , 19.64660633, 19.64660633, 15.7453125 ,\n",
              "       19.64660633, 15.7453125 , 25.93214286, 15.7453125 , 15.7453125 ,\n",
              "       19.64660633, 33.93913043, 19.64660633, 19.64660633, 15.7453125 ,\n",
              "       19.64660633, 33.93913043, 33.93913043, 25.93214286, 19.64660633,\n",
              "       39.15      , 19.64660633, 19.64660633, 19.64660633, 19.64660633,\n",
              "       15.7453125 , 15.7453125 , 47.13684211, 19.64660633, 19.64660633,\n",
              "       15.7453125 , 15.7453125 , 19.64660633, 33.93913043, 39.15      ,\n",
              "       19.64660633, 19.64660633])"
            ]
          },
          "metadata": {},
          "execution_count": 9
        }
      ]
    },
    {
      "cell_type": "code",
      "metadata": {
        "colab": {
          "base_uri": "https://localhost:8080/"
        },
        "id": "URHuz5H8lsTs",
        "outputId": "46ae6ce7-392e-4fee-f4a1-f2184e674730"
      },
      "source": [
        "#print values\n",
        "print(y_pred[4:9])\n",
        "print(Y_test[4:9])"
      ],
      "execution_count": 10,
      "outputs": [
        {
          "output_type": "stream",
          "name": "stdout",
          "text": [
            "[19.64660633 15.7453125  35.16666667 15.7453125  15.7453125 ]\n",
            "     medv\n",
            "114  18.5\n",
            "424  11.7\n",
            "303  33.1\n",
            "477  12.0\n",
            "184  26.4\n"
          ]
        }
      ]
    },
    {
      "cell_type": "code",
      "metadata": {
        "colab": {
          "base_uri": "https://localhost:8080/"
        },
        "id": "zHWv44bCJhBH",
        "outputId": "89df0b17-0e5e-428e-b65b-21020ef8eb64"
      },
      "source": [
        "#rsme value\n",
        "from sklearn.metrics import mean_squared_error\n",
        "mse = mean_squared_error(y_pred, Y_test)\n",
        "rmse = np.sqrt(mse)\n",
        "print(rmse)"
      ],
      "execution_count": 11,
      "outputs": [
        {
          "output_type": "stream",
          "name": "stdout",
          "text": [
            "7.256298644582581\n"
          ]
        }
      ]
    }
  ]
}
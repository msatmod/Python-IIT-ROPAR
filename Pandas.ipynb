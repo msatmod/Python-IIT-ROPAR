{
  "nbformat": 4,
  "nbformat_minor": 0,
  "metadata": {
    "colab": {
      "name": "Pandas.ipynb",
      "provenance": [],
      "collapsed_sections": []
    },
    "kernelspec": {
      "name": "python3",
      "display_name": "Python 3"
    },
    "language_info": {
      "name": "python"
    }
  },
  "cells": [
    {
      "cell_type": "markdown",
      "metadata": {
        "id": "BuLxkMF3LloI"
      },
      "source": [
        "#Pandas\n",
        "A python library to deal with sequential and tabular data. \n",
        "\n",
        "It has two types of data structures:\n",
        "\n",
        "1. Series- It is 1D labelled array capable of holding datatypes like int, float, objects. Axis labels are colllectively called as index. Python series is nothing but colums in excel sheets.\n",
        "\n",
        "2. Dataframes- It is a hereterogenous 2D objects which stores data in rows and columns.\n",
        "\n"
      ]
    },
    {
      "cell_type": "markdown",
      "metadata": {
        "id": "9awhon_DTgLb"
      },
      "source": [
        "#Series"
      ]
    },
    {
      "cell_type": "code",
      "metadata": {
        "id": "uWebI_oUKRK-"
      },
      "source": [
        "import pandas as pd\n",
        "import numpy as np"
      ],
      "execution_count": 1,
      "outputs": []
    },
    {
      "cell_type": "code",
      "metadata": {
        "colab": {
          "base_uri": "https://localhost:8080/"
        },
        "id": "9jkq6q-KOuG7",
        "outputId": "a8b72ef6-64d2-4f27-eccf-4092bc1892f4"
      },
      "source": [
        "ds = pd.Series(dtype=object)\n",
        "ds"
      ],
      "execution_count": 2,
      "outputs": [
        {
          "output_type": "execute_result",
          "data": {
            "text/plain": [
              "Series([], dtype: object)"
            ]
          },
          "metadata": {},
          "execution_count": 2
        }
      ]
    },
    {
      "cell_type": "code",
      "metadata": {
        "colab": {
          "base_uri": "https://localhost:8080/"
        },
        "id": "-0xLQLuNPD0b",
        "outputId": "1b61ee4f-3437-477c-f4ea-5a76445e8921"
      },
      "source": [
        "data = np.array(['M','E','G','A'])\n",
        "pd.Series(data)"
      ],
      "execution_count": 3,
      "outputs": [
        {
          "output_type": "execute_result",
          "data": {
            "text/plain": [
              "0    M\n",
              "1    E\n",
              "2    G\n",
              "3    A\n",
              "dtype: object"
            ]
          },
          "metadata": {},
          "execution_count": 3
        }
      ]
    },
    {
      "cell_type": "code",
      "metadata": {
        "colab": {
          "base_uri": "https://localhost:8080/"
        },
        "id": "4Xc-5g3JPaf_",
        "outputId": "b8638f56-ebd6-41c7-e6e1-e711f4e927c0"
      },
      "source": [
        "m = ['Max',12,8*4,9/3]\n",
        "pd.Series(m)"
      ],
      "execution_count": 4,
      "outputs": [
        {
          "output_type": "execute_result",
          "data": {
            "text/plain": [
              "0    Max\n",
              "1     12\n",
              "2     32\n",
              "3      3\n",
              "dtype: object"
            ]
          },
          "metadata": {},
          "execution_count": 4
        }
      ]
    },
    {
      "cell_type": "code",
      "metadata": {
        "colab": {
          "base_uri": "https://localhost:8080/"
        },
        "id": "FE8Tu0EyPz2k",
        "outputId": "06b23ae6-1bc1-42c3-a981-d428c961ac9b"
      },
      "source": [
        "n = {'a':1,'b':2,'c':4}\n",
        "pd.Series(n)"
      ],
      "execution_count": 5,
      "outputs": [
        {
          "output_type": "execute_result",
          "data": {
            "text/plain": [
              "a    1\n",
              "b    2\n",
              "c    4\n",
              "dtype: int64"
            ]
          },
          "metadata": {},
          "execution_count": 5
        }
      ]
    },
    {
      "cell_type": "code",
      "metadata": {
        "colab": {
          "base_uri": "https://localhost:8080/"
        },
        "id": "f893XUaZQD1-",
        "outputId": "a43fb02c-16c2-41cd-9b26-8cc317c7bab3"
      },
      "source": [
        "ds1 = pd.Series(np.random.randn(5))\n",
        "ds1"
      ],
      "execution_count": 6,
      "outputs": [
        {
          "output_type": "execute_result",
          "data": {
            "text/plain": [
              "0    0.441221\n",
              "1    0.510141\n",
              "2    0.188305\n",
              "3   -0.201125\n",
              "4    0.263344\n",
              "dtype: float64"
            ]
          },
          "metadata": {},
          "execution_count": 6
        }
      ]
    },
    {
      "cell_type": "code",
      "metadata": {
        "colab": {
          "base_uri": "https://localhost:8080/"
        },
        "id": "Kwtd2dm_QQum",
        "outputId": "4caca215-c8cb-4183-e300-a5489720239c"
      },
      "source": [
        "r = pd.Series(data)\n",
        "print (r[:2])"
      ],
      "execution_count": 7,
      "outputs": [
        {
          "output_type": "stream",
          "name": "stdout",
          "text": [
            "0    M\n",
            "1    E\n",
            "dtype: object\n"
          ]
        }
      ]
    },
    {
      "cell_type": "code",
      "metadata": {
        "colab": {
          "base_uri": "https://localhost:8080/"
        },
        "id": "yexI6NIEQhtP",
        "outputId": "9c063347-f35a-44fa-e2b9-44384e1224c5"
      },
      "source": [
        "print (r[:4])"
      ],
      "execution_count": 8,
      "outputs": [
        {
          "output_type": "stream",
          "name": "stdout",
          "text": [
            "0    M\n",
            "1    E\n",
            "2    G\n",
            "3    A\n",
            "dtype: object\n"
          ]
        }
      ]
    },
    {
      "cell_type": "code",
      "metadata": {
        "colab": {
          "base_uri": "https://localhost:8080/"
        },
        "id": "V8dQcCB9Q3O6",
        "outputId": "ad313174-cad6-4b7b-843b-072c283ed512"
      },
      "source": [
        "print (r[-1:])"
      ],
      "execution_count": 9,
      "outputs": [
        {
          "output_type": "stream",
          "name": "stdout",
          "text": [
            "3    A\n",
            "dtype: object\n"
          ]
        }
      ]
    },
    {
      "cell_type": "code",
      "metadata": {
        "colab": {
          "base_uri": "https://localhost:8080/"
        },
        "id": "vUx1PGa_RHhU",
        "outputId": "680a3b3b-5e66-4f69-997e-11783852ac5d"
      },
      "source": [
        "g = pd.Series(data, index=range(10,14))\n",
        "g"
      ],
      "execution_count": 10,
      "outputs": [
        {
          "output_type": "execute_result",
          "data": {
            "text/plain": [
              "10    M\n",
              "11    E\n",
              "12    G\n",
              "13    A\n",
              "dtype: object"
            ]
          },
          "metadata": {},
          "execution_count": 10
        }
      ]
    },
    {
      "cell_type": "code",
      "metadata": {
        "colab": {
          "base_uri": "https://localhost:8080/"
        },
        "id": "5Wr9pkSORatV",
        "outputId": "727ec614-7ea2-4908-e01c-6c7e6e72df21"
      },
      "source": [
        "e = pd.Series([9,8,6,7], index=['a','b','c','d'])\n",
        "f = pd.Series({'a':3, 'b':6, 'c':9,'d':2})\n",
        "print (e,f)\n"
      ],
      "execution_count": 11,
      "outputs": [
        {
          "output_type": "stream",
          "name": "stdout",
          "text": [
            "a    9\n",
            "b    8\n",
            "c    6\n",
            "d    7\n",
            "dtype: int64 a    3\n",
            "b    6\n",
            "c    9\n",
            "d    2\n",
            "dtype: int64\n"
          ]
        }
      ]
    },
    {
      "cell_type": "code",
      "metadata": {
        "colab": {
          "base_uri": "https://localhost:8080/"
        },
        "id": "LBfbLgtgSBBT",
        "outputId": "a068b770-8222-47fd-999b-284ce6a6a769"
      },
      "source": [
        "e.add(f)"
      ],
      "execution_count": 12,
      "outputs": [
        {
          "output_type": "execute_result",
          "data": {
            "text/plain": [
              "a    12\n",
              "b    14\n",
              "c    15\n",
              "d     9\n",
              "dtype: int64"
            ]
          },
          "metadata": {},
          "execution_count": 12
        }
      ]
    },
    {
      "cell_type": "code",
      "metadata": {
        "colab": {
          "base_uri": "https://localhost:8080/"
        },
        "id": "raM7k56vSsDC",
        "outputId": "b58a0477-127b-4e99-b44b-ee51729bcedb"
      },
      "source": [
        "s1 = pd.Series(f)\n",
        "s2 = pd.Series([1,2,3,4])\n",
        "\n",
        "s1 + s2"
      ],
      "execution_count": 13,
      "outputs": [
        {
          "output_type": "execute_result",
          "data": {
            "text/plain": [
              "a   NaN\n",
              "b   NaN\n",
              "c   NaN\n",
              "d   NaN\n",
              "0   NaN\n",
              "1   NaN\n",
              "2   NaN\n",
              "3   NaN\n",
              "dtype: float64"
            ]
          },
          "metadata": {},
          "execution_count": 13
        }
      ]
    },
    {
      "cell_type": "markdown",
      "metadata": {
        "id": "t9frY-4-TmIi"
      },
      "source": [
        "#Pandas Dataframes\n",
        "\n",
        "It is an heterogeneous 2D objects which stores data in rows and columns.\n"
      ]
    },
    {
      "cell_type": "code",
      "metadata": {
        "colab": {
          "base_uri": "https://localhost:8080/",
          "height": 32
        },
        "id": "s60n8e4zS8Zc",
        "outputId": "387eefe3-ce31-4a07-e516-bc4092036e6b"
      },
      "source": [
        "import pandas as pd\n",
        "import numpy as np\n",
        "\n",
        "df = pd.DataFrame()\n",
        "df"
      ],
      "execution_count": 14,
      "outputs": [
        {
          "output_type": "execute_result",
          "data": {
            "text/html": [
              "<div>\n",
              "<style scoped>\n",
              "    .dataframe tbody tr th:only-of-type {\n",
              "        vertical-align: middle;\n",
              "    }\n",
              "\n",
              "    .dataframe tbody tr th {\n",
              "        vertical-align: top;\n",
              "    }\n",
              "\n",
              "    .dataframe thead th {\n",
              "        text-align: right;\n",
              "    }\n",
              "</style>\n",
              "<table border=\"1\" class=\"dataframe\">\n",
              "  <thead>\n",
              "    <tr style=\"text-align: right;\">\n",
              "      <th></th>\n",
              "    </tr>\n",
              "  </thead>\n",
              "  <tbody>\n",
              "  </tbody>\n",
              "</table>\n",
              "</div>"
            ],
            "text/plain": [
              "Empty DataFrame\n",
              "Columns: []\n",
              "Index: []"
            ]
          },
          "metadata": {},
          "execution_count": 14
        }
      ]
    },
    {
      "cell_type": "code",
      "metadata": {
        "colab": {
          "base_uri": "https://localhost:8080/"
        },
        "id": "S1L99JfAL6uW",
        "outputId": "22de5113-eb1b-45e1-b471-017244b9abf4"
      },
      "source": [
        "print(df,type(df))"
      ],
      "execution_count": 15,
      "outputs": [
        {
          "output_type": "stream",
          "name": "stdout",
          "text": [
            "Empty DataFrame\n",
            "Columns: []\n",
            "Index: [] <class 'pandas.core.frame.DataFrame'>\n"
          ]
        }
      ]
    },
    {
      "cell_type": "code",
      "metadata": {
        "colab": {
          "base_uri": "https://localhost:8080/",
          "height": 204
        },
        "id": "n6DpTIZJMM-O",
        "outputId": "2cd631ec-f103-483f-c489-ce20bc96d622"
      },
      "source": [
        "a = pd.DataFrame(columns=['a','b','c','d','e'],index=range(1,6))\n",
        "a"
      ],
      "execution_count": 16,
      "outputs": [
        {
          "output_type": "execute_result",
          "data": {
            "text/html": [
              "<div>\n",
              "<style scoped>\n",
              "    .dataframe tbody tr th:only-of-type {\n",
              "        vertical-align: middle;\n",
              "    }\n",
              "\n",
              "    .dataframe tbody tr th {\n",
              "        vertical-align: top;\n",
              "    }\n",
              "\n",
              "    .dataframe thead th {\n",
              "        text-align: right;\n",
              "    }\n",
              "</style>\n",
              "<table border=\"1\" class=\"dataframe\">\n",
              "  <thead>\n",
              "    <tr style=\"text-align: right;\">\n",
              "      <th></th>\n",
              "      <th>a</th>\n",
              "      <th>b</th>\n",
              "      <th>c</th>\n",
              "      <th>d</th>\n",
              "      <th>e</th>\n",
              "    </tr>\n",
              "  </thead>\n",
              "  <tbody>\n",
              "    <tr>\n",
              "      <th>1</th>\n",
              "      <td>NaN</td>\n",
              "      <td>NaN</td>\n",
              "      <td>NaN</td>\n",
              "      <td>NaN</td>\n",
              "      <td>NaN</td>\n",
              "    </tr>\n",
              "    <tr>\n",
              "      <th>2</th>\n",
              "      <td>NaN</td>\n",
              "      <td>NaN</td>\n",
              "      <td>NaN</td>\n",
              "      <td>NaN</td>\n",
              "      <td>NaN</td>\n",
              "    </tr>\n",
              "    <tr>\n",
              "      <th>3</th>\n",
              "      <td>NaN</td>\n",
              "      <td>NaN</td>\n",
              "      <td>NaN</td>\n",
              "      <td>NaN</td>\n",
              "      <td>NaN</td>\n",
              "    </tr>\n",
              "    <tr>\n",
              "      <th>4</th>\n",
              "      <td>NaN</td>\n",
              "      <td>NaN</td>\n",
              "      <td>NaN</td>\n",
              "      <td>NaN</td>\n",
              "      <td>NaN</td>\n",
              "    </tr>\n",
              "    <tr>\n",
              "      <th>5</th>\n",
              "      <td>NaN</td>\n",
              "      <td>NaN</td>\n",
              "      <td>NaN</td>\n",
              "      <td>NaN</td>\n",
              "      <td>NaN</td>\n",
              "    </tr>\n",
              "  </tbody>\n",
              "</table>\n",
              "</div>"
            ],
            "text/plain": [
              "     a    b    c    d    e\n",
              "1  NaN  NaN  NaN  NaN  NaN\n",
              "2  NaN  NaN  NaN  NaN  NaN\n",
              "3  NaN  NaN  NaN  NaN  NaN\n",
              "4  NaN  NaN  NaN  NaN  NaN\n",
              "5  NaN  NaN  NaN  NaN  NaN"
            ]
          },
          "metadata": {},
          "execution_count": 16
        }
      ]
    },
    {
      "cell_type": "code",
      "metadata": {
        "id": "BZuuRRD_MqC9"
      },
      "source": [
        "data = {'apple':[7,9,3,4],'orange':[7,2,4,1]}"
      ],
      "execution_count": 17,
      "outputs": []
    },
    {
      "cell_type": "code",
      "metadata": {
        "colab": {
          "base_uri": "https://localhost:8080/",
          "height": 173
        },
        "id": "3iPmIiHjNAom",
        "outputId": "12561921-f9c3-46ef-81c0-89069a3b8e83"
      },
      "source": [
        "purchase = pd.DataFrame(data)\n",
        "purchase"
      ],
      "execution_count": 18,
      "outputs": [
        {
          "output_type": "execute_result",
          "data": {
            "text/html": [
              "<div>\n",
              "<style scoped>\n",
              "    .dataframe tbody tr th:only-of-type {\n",
              "        vertical-align: middle;\n",
              "    }\n",
              "\n",
              "    .dataframe tbody tr th {\n",
              "        vertical-align: top;\n",
              "    }\n",
              "\n",
              "    .dataframe thead th {\n",
              "        text-align: right;\n",
              "    }\n",
              "</style>\n",
              "<table border=\"1\" class=\"dataframe\">\n",
              "  <thead>\n",
              "    <tr style=\"text-align: right;\">\n",
              "      <th></th>\n",
              "      <th>apple</th>\n",
              "      <th>orange</th>\n",
              "    </tr>\n",
              "  </thead>\n",
              "  <tbody>\n",
              "    <tr>\n",
              "      <th>0</th>\n",
              "      <td>7</td>\n",
              "      <td>7</td>\n",
              "    </tr>\n",
              "    <tr>\n",
              "      <th>1</th>\n",
              "      <td>9</td>\n",
              "      <td>2</td>\n",
              "    </tr>\n",
              "    <tr>\n",
              "      <th>2</th>\n",
              "      <td>3</td>\n",
              "      <td>4</td>\n",
              "    </tr>\n",
              "    <tr>\n",
              "      <th>3</th>\n",
              "      <td>4</td>\n",
              "      <td>1</td>\n",
              "    </tr>\n",
              "  </tbody>\n",
              "</table>\n",
              "</div>"
            ],
            "text/plain": [
              "   apple  orange\n",
              "0      7       7\n",
              "1      9       2\n",
              "2      3       4\n",
              "3      4       1"
            ]
          },
          "metadata": {},
          "execution_count": 18
        }
      ]
    },
    {
      "cell_type": "code",
      "metadata": {
        "colab": {
          "base_uri": "https://localhost:8080/",
          "height": 173
        },
        "id": "BIT9FD18NKRp",
        "outputId": "42829d85-f279-4cd3-b11b-4308eeaafc4a"
      },
      "source": [
        "customers = pd.DataFrame(data, index = ['Mira', 'Axel','Sven','Harry'])\n",
        "customers"
      ],
      "execution_count": 19,
      "outputs": [
        {
          "output_type": "execute_result",
          "data": {
            "text/html": [
              "<div>\n",
              "<style scoped>\n",
              "    .dataframe tbody tr th:only-of-type {\n",
              "        vertical-align: middle;\n",
              "    }\n",
              "\n",
              "    .dataframe tbody tr th {\n",
              "        vertical-align: top;\n",
              "    }\n",
              "\n",
              "    .dataframe thead th {\n",
              "        text-align: right;\n",
              "    }\n",
              "</style>\n",
              "<table border=\"1\" class=\"dataframe\">\n",
              "  <thead>\n",
              "    <tr style=\"text-align: right;\">\n",
              "      <th></th>\n",
              "      <th>apple</th>\n",
              "      <th>orange</th>\n",
              "    </tr>\n",
              "  </thead>\n",
              "  <tbody>\n",
              "    <tr>\n",
              "      <th>Mira</th>\n",
              "      <td>7</td>\n",
              "      <td>7</td>\n",
              "    </tr>\n",
              "    <tr>\n",
              "      <th>Axel</th>\n",
              "      <td>9</td>\n",
              "      <td>2</td>\n",
              "    </tr>\n",
              "    <tr>\n",
              "      <th>Sven</th>\n",
              "      <td>3</td>\n",
              "      <td>4</td>\n",
              "    </tr>\n",
              "    <tr>\n",
              "      <th>Harry</th>\n",
              "      <td>4</td>\n",
              "      <td>1</td>\n",
              "    </tr>\n",
              "  </tbody>\n",
              "</table>\n",
              "</div>"
            ],
            "text/plain": [
              "       apple  orange\n",
              "Mira       7       7\n",
              "Axel       9       2\n",
              "Sven       3       4\n",
              "Harry      4       1"
            ]
          },
          "metadata": {},
          "execution_count": 19
        }
      ]
    },
    {
      "cell_type": "code",
      "metadata": {
        "id": "L1ZHo0kPNnmj"
      },
      "source": [
        "date = {'apple': range(1,5),'orange':range(5,9)}\n",
        "index = pd.DatetimeIndex(['2021-03-09','2021-12-23','2021-09-11','2021-12-31'])"
      ],
      "execution_count": 20,
      "outputs": []
    },
    {
      "cell_type": "code",
      "metadata": {
        "colab": {
          "base_uri": "https://localhost:8080/",
          "height": 173
        },
        "id": "JjV6KKuBObT4",
        "outputId": "e4a0887b-2816-45c2-89d6-23aee931c038"
      },
      "source": [
        "pd.DataFrame(date, index=index)"
      ],
      "execution_count": 21,
      "outputs": [
        {
          "output_type": "execute_result",
          "data": {
            "text/html": [
              "<div>\n",
              "<style scoped>\n",
              "    .dataframe tbody tr th:only-of-type {\n",
              "        vertical-align: middle;\n",
              "    }\n",
              "\n",
              "    .dataframe tbody tr th {\n",
              "        vertical-align: top;\n",
              "    }\n",
              "\n",
              "    .dataframe thead th {\n",
              "        text-align: right;\n",
              "    }\n",
              "</style>\n",
              "<table border=\"1\" class=\"dataframe\">\n",
              "  <thead>\n",
              "    <tr style=\"text-align: right;\">\n",
              "      <th></th>\n",
              "      <th>apple</th>\n",
              "      <th>orange</th>\n",
              "    </tr>\n",
              "  </thead>\n",
              "  <tbody>\n",
              "    <tr>\n",
              "      <th>2021-03-09</th>\n",
              "      <td>1</td>\n",
              "      <td>5</td>\n",
              "    </tr>\n",
              "    <tr>\n",
              "      <th>2021-12-23</th>\n",
              "      <td>2</td>\n",
              "      <td>6</td>\n",
              "    </tr>\n",
              "    <tr>\n",
              "      <th>2021-09-11</th>\n",
              "      <td>3</td>\n",
              "      <td>7</td>\n",
              "    </tr>\n",
              "    <tr>\n",
              "      <th>2021-12-31</th>\n",
              "      <td>4</td>\n",
              "      <td>8</td>\n",
              "    </tr>\n",
              "  </tbody>\n",
              "</table>\n",
              "</div>"
            ],
            "text/plain": [
              "            apple  orange\n",
              "2021-03-09      1       5\n",
              "2021-12-23      2       6\n",
              "2021-09-11      3       7\n",
              "2021-12-31      4       8"
            ]
          },
          "metadata": {},
          "execution_count": 21
        }
      ]
    },
    {
      "cell_type": "code",
      "metadata": {
        "colab": {
          "base_uri": "https://localhost:8080/",
          "height": 359
        },
        "id": "wvBds658OlCE",
        "outputId": "0bdb822e-2c85-45da-b8dd-cdfd9147f094"
      },
      "source": [
        "#task: create a dataframe of random numbers with 10 rows and columns as A,B,C,D,E\n",
        "x = {\n",
        "  'A':np.random.randn(10),\n",
        "  'B':np.random.randn(10),\n",
        "  'C':np.random.randn(10),\n",
        "  'D':np.random.randn(10),\n",
        "  'E':np.random.randn(10)\n",
        "}\n",
        "a = pd.DataFrame(x)\n",
        "a"
      ],
      "execution_count": 22,
      "outputs": [
        {
          "output_type": "execute_result",
          "data": {
            "text/html": [
              "<div>\n",
              "<style scoped>\n",
              "    .dataframe tbody tr th:only-of-type {\n",
              "        vertical-align: middle;\n",
              "    }\n",
              "\n",
              "    .dataframe tbody tr th {\n",
              "        vertical-align: top;\n",
              "    }\n",
              "\n",
              "    .dataframe thead th {\n",
              "        text-align: right;\n",
              "    }\n",
              "</style>\n",
              "<table border=\"1\" class=\"dataframe\">\n",
              "  <thead>\n",
              "    <tr style=\"text-align: right;\">\n",
              "      <th></th>\n",
              "      <th>A</th>\n",
              "      <th>B</th>\n",
              "      <th>C</th>\n",
              "      <th>D</th>\n",
              "      <th>E</th>\n",
              "    </tr>\n",
              "  </thead>\n",
              "  <tbody>\n",
              "    <tr>\n",
              "      <th>0</th>\n",
              "      <td>0.693577</td>\n",
              "      <td>0.551442</td>\n",
              "      <td>-0.766614</td>\n",
              "      <td>-0.621500</td>\n",
              "      <td>1.262280</td>\n",
              "    </tr>\n",
              "    <tr>\n",
              "      <th>1</th>\n",
              "      <td>0.331477</td>\n",
              "      <td>-0.598185</td>\n",
              "      <td>-2.096519</td>\n",
              "      <td>-0.367621</td>\n",
              "      <td>-0.807306</td>\n",
              "    </tr>\n",
              "    <tr>\n",
              "      <th>2</th>\n",
              "      <td>0.128152</td>\n",
              "      <td>-0.483583</td>\n",
              "      <td>1.329374</td>\n",
              "      <td>0.169685</td>\n",
              "      <td>-0.752027</td>\n",
              "    </tr>\n",
              "    <tr>\n",
              "      <th>3</th>\n",
              "      <td>0.319063</td>\n",
              "      <td>1.737407</td>\n",
              "      <td>0.199511</td>\n",
              "      <td>-0.057665</td>\n",
              "      <td>-0.797318</td>\n",
              "    </tr>\n",
              "    <tr>\n",
              "      <th>4</th>\n",
              "      <td>0.484058</td>\n",
              "      <td>-0.447430</td>\n",
              "      <td>0.231524</td>\n",
              "      <td>-0.740351</td>\n",
              "      <td>1.710223</td>\n",
              "    </tr>\n",
              "    <tr>\n",
              "      <th>5</th>\n",
              "      <td>0.746633</td>\n",
              "      <td>1.770555</td>\n",
              "      <td>0.789442</td>\n",
              "      <td>0.467981</td>\n",
              "      <td>-0.936338</td>\n",
              "    </tr>\n",
              "    <tr>\n",
              "      <th>6</th>\n",
              "      <td>1.334388</td>\n",
              "      <td>1.360448</td>\n",
              "      <td>-0.682100</td>\n",
              "      <td>-0.640456</td>\n",
              "      <td>-2.746564</td>\n",
              "    </tr>\n",
              "    <tr>\n",
              "      <th>7</th>\n",
              "      <td>0.990563</td>\n",
              "      <td>0.761690</td>\n",
              "      <td>-0.885189</td>\n",
              "      <td>1.256768</td>\n",
              "      <td>-2.662994</td>\n",
              "    </tr>\n",
              "    <tr>\n",
              "      <th>8</th>\n",
              "      <td>2.262003</td>\n",
              "      <td>-0.694941</td>\n",
              "      <td>0.049659</td>\n",
              "      <td>-0.499560</td>\n",
              "      <td>0.034107</td>\n",
              "    </tr>\n",
              "    <tr>\n",
              "      <th>9</th>\n",
              "      <td>-0.523461</td>\n",
              "      <td>-1.367655</td>\n",
              "      <td>-0.440812</td>\n",
              "      <td>0.348512</td>\n",
              "      <td>0.651964</td>\n",
              "    </tr>\n",
              "  </tbody>\n",
              "</table>\n",
              "</div>"
            ],
            "text/plain": [
              "          A         B         C         D         E\n",
              "0  0.693577  0.551442 -0.766614 -0.621500  1.262280\n",
              "1  0.331477 -0.598185 -2.096519 -0.367621 -0.807306\n",
              "2  0.128152 -0.483583  1.329374  0.169685 -0.752027\n",
              "3  0.319063  1.737407  0.199511 -0.057665 -0.797318\n",
              "4  0.484058 -0.447430  0.231524 -0.740351  1.710223\n",
              "5  0.746633  1.770555  0.789442  0.467981 -0.936338\n",
              "6  1.334388  1.360448 -0.682100 -0.640456 -2.746564\n",
              "7  0.990563  0.761690 -0.885189  1.256768 -2.662994\n",
              "8  2.262003 -0.694941  0.049659 -0.499560  0.034107\n",
              "9 -0.523461 -1.367655 -0.440812  0.348512  0.651964"
            ]
          },
          "metadata": {},
          "execution_count": 22
        }
      ]
    }
  ]
}
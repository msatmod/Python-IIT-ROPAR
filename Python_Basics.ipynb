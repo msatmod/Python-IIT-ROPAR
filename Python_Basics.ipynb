{
  "nbformat": 4,
  "nbformat_minor": 0,
  "metadata": {
    "colab": {
      "name": "Python-Basics.ipynb",
      "provenance": [],
      "collapsed_sections": []
    },
    "kernelspec": {
      "display_name": "Python 3",
      "name": "python3"
    },
    "language_info": {
      "name": "python"
    }
  },
  "cells": [
    {
      "cell_type": "markdown",
      "metadata": {
        "id": "WYKmt2PORD2H"
      },
      "source": [
        "#Python - Basics\n",
        "\n",
        "Python is a general purpose, dynamic, high level languange.\n",
        "\n"
      ]
    },
    {
      "cell_type": "markdown",
      "metadata": {
        "id": "_tZ9B18S8kYz"
      },
      "source": [
        "###VARIABLES AND DATATYPES\n",
        "Variables are reserved meemory containers which hold a value in itslelf.\n",
        "\n",
        "\n",
        "Datatype is a type of value assigned to variable."
      ]
    },
    {
      "cell_type": "code",
      "metadata": {
        "id": "aXUkyBFPTFtX"
      },
      "source": [
        "#Let's assign a value to a variable\n",
        "x = 12"
      ],
      "execution_count": 1,
      "outputs": []
    },
    {
      "cell_type": "code",
      "metadata": {
        "colab": {
          "base_uri": "https://localhost:8080/"
        },
        "id": "m0RtR_2kTSkw",
        "outputId": "dcb79d79-7101-47dc-9a7b-7a2e45d1e09d"
      },
      "source": [
        "#Printing value and datatype of variable\n",
        "print(12,type(x))"
      ],
      "execution_count": 2,
      "outputs": [
        {
          "output_type": "stream",
          "name": "stdout",
          "text": [
            "12 <class 'int'>\n"
          ]
        }
      ]
    },
    {
      "cell_type": "code",
      "metadata": {
        "colab": {
          "base_uri": "https://localhost:8080/"
        },
        "id": "bsZ3IUj2TYZk",
        "outputId": "7943bff0-75f7-41b8-a7e6-53f79080a2f3"
      },
      "source": [
        "#Arithmetic operation\n",
        "x+12\n"
      ],
      "execution_count": 3,
      "outputs": [
        {
          "output_type": "execute_result",
          "data": {
            "text/plain": [
              "24"
            ]
          },
          "metadata": {},
          "execution_count": 3
        }
      ]
    },
    {
      "cell_type": "code",
      "metadata": {
        "id": "4_IZQ-djTh9e",
        "colab": {
          "base_uri": "https://localhost:8080/"
        },
        "outputId": "3cc78a86-a1fa-45f4-ddf2-8160261f7985"
      },
      "source": [
        "y=8.6\n",
        "y"
      ],
      "execution_count": 4,
      "outputs": [
        {
          "output_type": "execute_result",
          "data": {
            "text/plain": [
              "8.6"
            ]
          },
          "metadata": {},
          "execution_count": 4
        }
      ]
    },
    {
      "cell_type": "code",
      "metadata": {
        "colab": {
          "base_uri": "https://localhost:8080/"
        },
        "id": "t8SozXvHTs9r",
        "outputId": "72607b93-43fb-42d2-f6c5-9fb2496c083c"
      },
      "source": [
        "#type() returns the datatype of the variable\n",
        "type(y)"
      ],
      "execution_count": 5,
      "outputs": [
        {
          "output_type": "execute_result",
          "data": {
            "text/plain": [
              "float"
            ]
          },
          "metadata": {},
          "execution_count": 5
        }
      ]
    },
    {
      "cell_type": "markdown",
      "metadata": {
        "id": "g8vgHepCUCwG"
      },
      "source": [
        "###STRINGS\n",
        "\n",
        "String is a sequence of characters which are engrossed within single or double quotes and are immutable.\n"
      ]
    },
    {
      "cell_type": "code",
      "metadata": {
        "id": "12kDjRHnT5pR"
      },
      "source": [
        "string =\"I am an alien\""
      ],
      "execution_count": 6,
      "outputs": []
    },
    {
      "cell_type": "code",
      "metadata": {
        "colab": {
          "base_uri": "https://localhost:8080/",
          "height": 35
        },
        "id": "IUM6oIkBUbW2",
        "outputId": "723e489f-3b82-4714-d03c-f99e710594c6"
      },
      "source": [
        "string"
      ],
      "execution_count": 7,
      "outputs": [
        {
          "output_type": "execute_result",
          "data": {
            "application/vnd.google.colaboratory.intrinsic+json": {
              "type": "string"
            },
            "text/plain": [
              "'I am an alien'"
            ]
          },
          "metadata": {},
          "execution_count": 7
        }
      ]
    },
    {
      "cell_type": "code",
      "metadata": {
        "colab": {
          "base_uri": "https://localhost:8080/"
        },
        "id": "l4Vhl33bUcfs",
        "outputId": "5eb486f1-cb97-4e20-a4fa-d8290adae249"
      },
      "source": [
        "type(string)"
      ],
      "execution_count": 8,
      "outputs": [
        {
          "output_type": "execute_result",
          "data": {
            "text/plain": [
              "str"
            ]
          },
          "metadata": {},
          "execution_count": 8
        }
      ]
    },
    {
      "cell_type": "code",
      "metadata": {
        "id": "n-Ts6lqJUg-l"
      },
      "source": [
        "str1 = y"
      ],
      "execution_count": 9,
      "outputs": []
    },
    {
      "cell_type": "code",
      "metadata": {
        "colab": {
          "base_uri": "https://localhost:8080/"
        },
        "id": "fgZisPq0U3ke",
        "outputId": "9cceed90-aa64-4713-da90-2e06f44fa9f5"
      },
      "source": [
        "str1"
      ],
      "execution_count": 10,
      "outputs": [
        {
          "output_type": "execute_result",
          "data": {
            "text/plain": [
              "8.6"
            ]
          },
          "metadata": {},
          "execution_count": 10
        }
      ]
    },
    {
      "cell_type": "code",
      "metadata": {
        "id": "viF3GXmaU5Rx"
      },
      "source": [
        "str2 = \"Alan is a good boy\""
      ],
      "execution_count": 11,
      "outputs": []
    },
    {
      "cell_type": "code",
      "metadata": {
        "colab": {
          "base_uri": "https://localhost:8080/",
          "height": 35
        },
        "id": "xy-QUAQZVDy0",
        "outputId": "b7aa6757-e4d2-410a-925e-7054df536826"
      },
      "source": [
        "string + str2"
      ],
      "execution_count": 12,
      "outputs": [
        {
          "output_type": "execute_result",
          "data": {
            "application/vnd.google.colaboratory.intrinsic+json": {
              "type": "string"
            },
            "text/plain": [
              "'I am an alienAlan is a good boy'"
            ]
          },
          "metadata": {},
          "execution_count": 12
        }
      ]
    },
    {
      "cell_type": "code",
      "metadata": {
        "id": "lDECN9D5VOcG",
        "colab": {
          "base_uri": "https://localhost:8080/",
          "height": 35
        },
        "outputId": "dd6b9e15-9869-4d79-9199-721a33a57183"
      },
      "source": [
        "str3 = \"Michael\"\n",
        "str3"
      ],
      "execution_count": 13,
      "outputs": [
        {
          "output_type": "execute_result",
          "data": {
            "application/vnd.google.colaboratory.intrinsic+json": {
              "type": "string"
            },
            "text/plain": [
              "'Michael'"
            ]
          },
          "metadata": {},
          "execution_count": 13
        }
      ]
    },
    {
      "cell_type": "code",
      "metadata": {
        "colab": {
          "base_uri": "https://localhost:8080/",
          "height": 35
        },
        "id": "jlOjlK00Vz1N",
        "outputId": "a5ed046c-10ce-400a-9960-6182fbe03e94"
      },
      "source": [
        "str3 * 12"
      ],
      "execution_count": 14,
      "outputs": [
        {
          "output_type": "execute_result",
          "data": {
            "application/vnd.google.colaboratory.intrinsic+json": {
              "type": "string"
            },
            "text/plain": [
              "'MichaelMichaelMichaelMichaelMichaelMichaelMichaelMichaelMichaelMichaelMichaelMichael'"
            ]
          },
          "metadata": {},
          "execution_count": 14
        }
      ]
    },
    {
      "cell_type": "code",
      "metadata": {
        "colab": {
          "base_uri": "https://localhost:8080/",
          "height": 35
        },
        "id": "laNE0R-nWFhX",
        "outputId": "3d70e2cb-6bcf-4827-9824-f28bdbeed49c"
      },
      "source": [
        "\"Michael \" *12"
      ],
      "execution_count": 15,
      "outputs": [
        {
          "output_type": "execute_result",
          "data": {
            "application/vnd.google.colaboratory.intrinsic+json": {
              "type": "string"
            },
            "text/plain": [
              "'Michael Michael Michael Michael Michael Michael Michael Michael Michael Michael Michael Michael '"
            ]
          },
          "metadata": {},
          "execution_count": 15
        }
      ]
    },
    {
      "cell_type": "markdown",
      "metadata": {
        "id": "brXMPfMCWXQY"
      },
      "source": [
        "Slicing is extracting a part or creating substring from existing string\n",
        "\n",
        "Syntax: str[index]\n",
        "\n",
        "Syntax: str[start:end-1]"
      ]
    },
    {
      "cell_type": "code",
      "metadata": {
        "colab": {
          "base_uri": "https://localhost:8080/",
          "height": 35
        },
        "id": "XT3kZlYSWSJj",
        "outputId": "1105b4a7-c89a-4478-dc2d-d7878f9659bd"
      },
      "source": [
        "str2[0]"
      ],
      "execution_count": 16,
      "outputs": [
        {
          "output_type": "execute_result",
          "data": {
            "application/vnd.google.colaboratory.intrinsic+json": {
              "type": "string"
            },
            "text/plain": [
              "'A'"
            ]
          },
          "metadata": {},
          "execution_count": 16
        }
      ]
    },
    {
      "cell_type": "code",
      "metadata": {
        "colab": {
          "base_uri": "https://localhost:8080/",
          "height": 35
        },
        "id": "auroKwUiXFfZ",
        "outputId": "889fdd04-7cee-4097-c079-abfc2461ea92"
      },
      "source": [
        "string[0]\n"
      ],
      "execution_count": 17,
      "outputs": [
        {
          "output_type": "execute_result",
          "data": {
            "application/vnd.google.colaboratory.intrinsic+json": {
              "type": "string"
            },
            "text/plain": [
              "'I'"
            ]
          },
          "metadata": {},
          "execution_count": 17
        }
      ]
    },
    {
      "cell_type": "code",
      "metadata": {
        "colab": {
          "base_uri": "https://localhost:8080/",
          "height": 35
        },
        "id": "88rwvO62XODl",
        "outputId": "46ddb92e-bd12-47b6-dc04-0832bc1e1e4a"
      },
      "source": [
        "string[1:3]"
      ],
      "execution_count": 18,
      "outputs": [
        {
          "output_type": "execute_result",
          "data": {
            "application/vnd.google.colaboratory.intrinsic+json": {
              "type": "string"
            },
            "text/plain": [
              "' a'"
            ]
          },
          "metadata": {},
          "execution_count": 18
        }
      ]
    },
    {
      "cell_type": "code",
      "metadata": {
        "colab": {
          "base_uri": "https://localhost:8080/",
          "height": 35
        },
        "id": "vst-JO-5Xdjo",
        "outputId": "b4e436b2-14c0-4108-d304-00471177151e"
      },
      "source": [
        "string[0:4]"
      ],
      "execution_count": 19,
      "outputs": [
        {
          "output_type": "execute_result",
          "data": {
            "application/vnd.google.colaboratory.intrinsic+json": {
              "type": "string"
            },
            "text/plain": [
              "'I am'"
            ]
          },
          "metadata": {},
          "execution_count": 19
        }
      ]
    },
    {
      "cell_type": "code",
      "metadata": {
        "colab": {
          "base_uri": "https://localhost:8080/",
          "height": 35
        },
        "id": "AOWD7ANQXh9S",
        "outputId": "f57ffe5e-58bd-4993-e238-3cd8d6016925"
      },
      "source": [
        "string[:4]"
      ],
      "execution_count": 20,
      "outputs": [
        {
          "output_type": "execute_result",
          "data": {
            "application/vnd.google.colaboratory.intrinsic+json": {
              "type": "string"
            },
            "text/plain": [
              "'I am'"
            ]
          },
          "metadata": {},
          "execution_count": 20
        }
      ]
    },
    {
      "cell_type": "code",
      "metadata": {
        "colab": {
          "base_uri": "https://localhost:8080/",
          "height": 35
        },
        "id": "OrFRm1xaXpC7",
        "outputId": "244d4f84-a4fd-4c16-eaf5-f1cf5fe1194c"
      },
      "source": [
        "string[:-5]"
      ],
      "execution_count": 21,
      "outputs": [
        {
          "output_type": "execute_result",
          "data": {
            "application/vnd.google.colaboratory.intrinsic+json": {
              "type": "string"
            },
            "text/plain": [
              "'I am an '"
            ]
          },
          "metadata": {},
          "execution_count": 21
        }
      ]
    },
    {
      "cell_type": "code",
      "metadata": {
        "colab": {
          "base_uri": "https://localhost:8080/",
          "height": 35
        },
        "id": "CjVuMTLhX6IA",
        "outputId": "bed0c314-1310-4a1f-992f-329ac8547b05"
      },
      "source": [
        "string[-5:]"
      ],
      "execution_count": 22,
      "outputs": [
        {
          "output_type": "execute_result",
          "data": {
            "application/vnd.google.colaboratory.intrinsic+json": {
              "type": "string"
            },
            "text/plain": [
              "'alien'"
            ]
          },
          "metadata": {},
          "execution_count": 22
        }
      ]
    },
    {
      "cell_type": "code",
      "metadata": {
        "colab": {
          "base_uri": "https://localhost:8080/"
        },
        "id": "TqzZfm1-Ysf_",
        "outputId": "738d4c28-c63c-4dff-fc19-1ded8d8b4996"
      },
      "source": [
        "string[:4],string[-5:]"
      ],
      "execution_count": 23,
      "outputs": [
        {
          "output_type": "execute_result",
          "data": {
            "text/plain": [
              "('I am', 'alien')"
            ]
          },
          "metadata": {},
          "execution_count": 23
        }
      ]
    },
    {
      "cell_type": "code",
      "metadata": {
        "colab": {
          "base_uri": "https://localhost:8080/",
          "height": 35
        },
        "id": "tBW01sL2YxyQ",
        "outputId": "e8fa597f-ba2f-4152-e1ef-1fe4f8404949"
      },
      "source": [
        "string[:4:]"
      ],
      "execution_count": 24,
      "outputs": [
        {
          "output_type": "execute_result",
          "data": {
            "application/vnd.google.colaboratory.intrinsic+json": {
              "type": "string"
            },
            "text/plain": [
              "'I am'"
            ]
          },
          "metadata": {},
          "execution_count": 24
        }
      ]
    },
    {
      "cell_type": "code",
      "metadata": {
        "colab": {
          "base_uri": "https://localhost:8080/",
          "height": 35
        },
        "id": "H-vUw92Qerqa",
        "outputId": "81a3bf1d-a78b-4deb-ba13-458cd450ae77"
      },
      "source": [
        "string[::-1]"
      ],
      "execution_count": 25,
      "outputs": [
        {
          "output_type": "execute_result",
          "data": {
            "application/vnd.google.colaboratory.intrinsic+json": {
              "type": "string"
            },
            "text/plain": [
              "'neila na ma I'"
            ]
          },
          "metadata": {},
          "execution_count": 25
        }
      ]
    },
    {
      "cell_type": "code",
      "metadata": {
        "colab": {
          "base_uri": "https://localhost:8080/",
          "height": 35
        },
        "id": "0b-PS2Aze1Xa",
        "outputId": "cd24d917-72ec-4465-9102-da2b81e843fe"
      },
      "source": [
        "#upper() return string with uppercase letters\n",
        "string.upper()"
      ],
      "execution_count": 26,
      "outputs": [
        {
          "output_type": "execute_result",
          "data": {
            "application/vnd.google.colaboratory.intrinsic+json": {
              "type": "string"
            },
            "text/plain": [
              "'I AM AN ALIEN'"
            ]
          },
          "metadata": {},
          "execution_count": 26
        }
      ]
    },
    {
      "cell_type": "code",
      "metadata": {
        "colab": {
          "base_uri": "https://localhost:8080/",
          "height": 35
        },
        "id": "yP7W4-kqfD_4",
        "outputId": "3937de5e-edff-462d-beb8-a07106593ac4"
      },
      "source": [
        "#lower() returns string with all lowercase letters\n",
        "string.lower()"
      ],
      "execution_count": 27,
      "outputs": [
        {
          "output_type": "execute_result",
          "data": {
            "application/vnd.google.colaboratory.intrinsic+json": {
              "type": "string"
            },
            "text/plain": [
              "'i am an alien'"
            ]
          },
          "metadata": {},
          "execution_count": 27
        }
      ]
    },
    {
      "cell_type": "code",
      "metadata": {
        "id": "5RAwM9_gfJFu"
      },
      "source": [
        "str4 = \"            My     name    is Michael    \""
      ],
      "execution_count": 28,
      "outputs": []
    },
    {
      "cell_type": "code",
      "metadata": {
        "colab": {
          "base_uri": "https://localhost:8080/",
          "height": 35
        },
        "id": "V5h8I8fGfgH-",
        "outputId": "23907a62-992a-4656-eb26-f9d77f601817"
      },
      "source": [
        "#Remove blank space\n",
        "str4.strip()"
      ],
      "execution_count": 29,
      "outputs": [
        {
          "output_type": "execute_result",
          "data": {
            "application/vnd.google.colaboratory.intrinsic+json": {
              "type": "string"
            },
            "text/plain": [
              "'My     name    is Michael'"
            ]
          },
          "metadata": {},
          "execution_count": 29
        }
      ]
    },
    {
      "cell_type": "code",
      "metadata": {
        "colab": {
          "base_uri": "https://localhost:8080/",
          "height": 35
        },
        "id": "SUgx-Ec5fkM9",
        "outputId": "c3bfde45-52c4-49dd-bad8-fd39501d5335"
      },
      "source": [
        "#Remove left blank space\n",
        "str4.lstrip()"
      ],
      "execution_count": 30,
      "outputs": [
        {
          "output_type": "execute_result",
          "data": {
            "application/vnd.google.colaboratory.intrinsic+json": {
              "type": "string"
            },
            "text/plain": [
              "'My     name    is Michael    '"
            ]
          },
          "metadata": {},
          "execution_count": 30
        }
      ]
    },
    {
      "cell_type": "code",
      "metadata": {
        "colab": {
          "base_uri": "https://localhost:8080/",
          "height": 35
        },
        "id": "0vkbS0v-fxP2",
        "outputId": "1022fe68-4bf2-481e-e35a-6afabec8a6be"
      },
      "source": [
        "#Remove right blank space\n",
        "str4.rstrip()"
      ],
      "execution_count": 31,
      "outputs": [
        {
          "output_type": "execute_result",
          "data": {
            "application/vnd.google.colaboratory.intrinsic+json": {
              "type": "string"
            },
            "text/plain": [
              "'            My     name    is Michael'"
            ]
          },
          "metadata": {},
          "execution_count": 31
        }
      ]
    },
    {
      "cell_type": "code",
      "metadata": {
        "colab": {
          "base_uri": "https://localhost:8080/"
        },
        "id": "zK6R4oTif3ou",
        "outputId": "a97b13b6-7174-42ff-d667-e09dbff3e22a"
      },
      "source": [
        "#isalpha() method returns True if all the characters are alphabet letters (a-z).\n",
        "str4.isalpha()"
      ],
      "execution_count": 32,
      "outputs": [
        {
          "output_type": "execute_result",
          "data": {
            "text/plain": [
              "False"
            ]
          },
          "metadata": {},
          "execution_count": 32
        }
      ]
    },
    {
      "cell_type": "code",
      "metadata": {
        "colab": {
          "base_uri": "https://localhost:8080/"
        },
        "id": "871zv0rdgHG7",
        "outputId": "2b56e993-2409-4bf8-bfac-b1eaa0a1ef0b"
      },
      "source": [
        "str3.isalpha()"
      ],
      "execution_count": 33,
      "outputs": [
        {
          "output_type": "execute_result",
          "data": {
            "text/plain": [
              "True"
            ]
          },
          "metadata": {},
          "execution_count": 33
        }
      ]
    },
    {
      "cell_type": "code",
      "metadata": {
        "colab": {
          "base_uri": "https://localhost:8080/"
        },
        "id": "iKyYx4TKgUL6",
        "outputId": "4b2a5499-4214-4aa1-c637-528cba1441ce"
      },
      "source": [
        "#isdigit() method returns True if all the characters are digits\n",
        "\"123\".isdigit()"
      ],
      "execution_count": 34,
      "outputs": [
        {
          "output_type": "execute_result",
          "data": {
            "text/plain": [
              "True"
            ]
          },
          "metadata": {},
          "execution_count": 34
        }
      ]
    },
    {
      "cell_type": "code",
      "metadata": {
        "colab": {
          "base_uri": "https://localhost:8080/"
        },
        "id": "pJAU8jN5gahg",
        "outputId": "464a335e-5874-42c6-cc94-5a3608869c0e"
      },
      "source": [
        "#isnumeric() method returns True if all the characters are numeric\n",
        "\"123\".isnumeric()"
      ],
      "execution_count": 35,
      "outputs": [
        {
          "output_type": "execute_result",
          "data": {
            "text/plain": [
              "True"
            ]
          },
          "metadata": {},
          "execution_count": 35
        }
      ]
    },
    {
      "cell_type": "code",
      "metadata": {
        "colab": {
          "base_uri": "https://localhost:8080/",
          "height": 35
        },
        "id": "ydeWrANSgf83",
        "outputId": "cde34755-b6ad-4761-e90a-de4d6d29e2dd"
      },
      "source": [
        "#replace() method returns a string where a specified value is replaced with a specified value\n",
        "\"Madagascar\".replace(\"a\",\"e\")"
      ],
      "execution_count": 36,
      "outputs": [
        {
          "output_type": "execute_result",
          "data": {
            "application/vnd.google.colaboratory.intrinsic+json": {
              "type": "string"
            },
            "text/plain": [
              "'Medegescer'"
            ]
          },
          "metadata": {},
          "execution_count": 36
        }
      ]
    },
    {
      "cell_type": "code",
      "metadata": {
        "colab": {
          "base_uri": "https://localhost:8080/"
        },
        "id": "j8aWfCdphL7a",
        "outputId": "42475444-c9d7-4022-c298-0ff0ce773268"
      },
      "source": [
        "#index() searches the string for a specified value and returns the position of where it was found\n",
        "\"Madagascar\".index('g')"
      ],
      "execution_count": 37,
      "outputs": [
        {
          "output_type": "execute_result",
          "data": {
            "text/plain": [
              "4"
            ]
          },
          "metadata": {},
          "execution_count": 37
        }
      ]
    },
    {
      "cell_type": "code",
      "metadata": {
        "colab": {
          "base_uri": "https://localhost:8080/"
        },
        "id": "xACENy4_hUDL",
        "outputId": "a6e664c3-d6ec-4249-c379-79ae96ce9e0b"
      },
      "source": [
        "#count() returns the number of times a specified value occurs in a string\n",
        "\"Madagascar\".count(\"a\")"
      ],
      "execution_count": 38,
      "outputs": [
        {
          "output_type": "execute_result",
          "data": {
            "text/plain": [
              "4"
            ]
          },
          "metadata": {},
          "execution_count": 38
        }
      ]
    },
    {
      "cell_type": "code",
      "metadata": {
        "colab": {
          "base_uri": "https://localhost:8080/",
          "height": 35
        },
        "id": "zyN1B24GhajT",
        "outputId": "4f74a8cf-2f5b-4035-b476-e5ae4ab65e36"
      },
      "source": [
        "#capitalize() converts the first character to upper case\n",
        "\"madagascar\".capitalize()"
      ],
      "execution_count": 39,
      "outputs": [
        {
          "output_type": "execute_result",
          "data": {
            "application/vnd.google.colaboratory.intrinsic+json": {
              "type": "string"
            },
            "text/plain": [
              "'Madagascar'"
            ]
          },
          "metadata": {},
          "execution_count": 39
        }
      ]
    },
    {
      "cell_type": "markdown",
      "metadata": {
        "id": "FEe09H9Ohx49"
      },
      "source": [
        "Container is data structure which holds or contain data in them.\n",
        "\n",
        "1. List \n",
        "2. Tuple\n",
        "3. Dictionary\n",
        "\n"
      ]
    },
    {
      "cell_type": "markdown",
      "metadata": {
        "id": "9Jj8a8VsB-u2"
      },
      "source": [
        "###LISTS\n",
        "\n",
        "A list is data structure that holds a collection of items and can store a sequence of items in it. \n",
        "\n",
        "Lists are created by placing all items in [ ], seperated by comma.\n",
        "\n",
        "Lists are mutable in nature."
      ]
    },
    {
      "cell_type": "code",
      "metadata": {
        "id": "oXCu8Gb4hkT2"
      },
      "source": [
        "list1 = []"
      ],
      "execution_count": 40,
      "outputs": []
    },
    {
      "cell_type": "code",
      "metadata": {
        "colab": {
          "base_uri": "https://localhost:8080/"
        },
        "id": "gjnsa8ENjK9A",
        "outputId": "93cfe4d4-0222-47c4-8192-8b06289edc5d"
      },
      "source": [
        "type(list1)"
      ],
      "execution_count": 41,
      "outputs": [
        {
          "output_type": "execute_result",
          "data": {
            "text/plain": [
              "list"
            ]
          },
          "metadata": {},
          "execution_count": 41
        }
      ]
    },
    {
      "cell_type": "code",
      "metadata": {
        "id": "fxuCLExUjP5p",
        "colab": {
          "base_uri": "https://localhost:8080/"
        },
        "outputId": "c8f36ddb-35fa-4dbc-8913-ae38f8f8e44e"
      },
      "source": [
        "list2 = [\"Michael\", \"Madagascar\", \"Anna\", \"Jake\", \"Sarah\"]\n",
        "list2"
      ],
      "execution_count": 42,
      "outputs": [
        {
          "output_type": "execute_result",
          "data": {
            "text/plain": [
              "['Michael', 'Madagascar', 'Anna', 'Jake', 'Sarah']"
            ]
          },
          "metadata": {},
          "execution_count": 42
        }
      ]
    },
    {
      "cell_type": "code",
      "metadata": {
        "colab": {
          "base_uri": "https://localhost:8080/",
          "height": 35
        },
        "id": "9mUhEH6ejhDN",
        "outputId": "cedb437e-1222-4bdc-f428-502b28502e0e"
      },
      "source": [
        "list2[1]"
      ],
      "execution_count": 43,
      "outputs": [
        {
          "output_type": "execute_result",
          "data": {
            "application/vnd.google.colaboratory.intrinsic+json": {
              "type": "string"
            },
            "text/plain": [
              "'Madagascar'"
            ]
          },
          "metadata": {},
          "execution_count": 43
        }
      ]
    },
    {
      "cell_type": "code",
      "metadata": {
        "colab": {
          "base_uri": "https://localhost:8080/",
          "height": 35
        },
        "id": "CnKxdtIgjlu3",
        "outputId": "477fc814-38f0-4a36-d459-04e738df9cd6"
      },
      "source": [
        "list2[-4]"
      ],
      "execution_count": 44,
      "outputs": [
        {
          "output_type": "execute_result",
          "data": {
            "application/vnd.google.colaboratory.intrinsic+json": {
              "type": "string"
            },
            "text/plain": [
              "'Madagascar'"
            ]
          },
          "metadata": {},
          "execution_count": 44
        }
      ]
    },
    {
      "cell_type": "code",
      "metadata": {
        "colab": {
          "base_uri": "https://localhost:8080/"
        },
        "id": "648vlfgUkJCS",
        "outputId": "ce08430b-8037-4dc1-9a90-c041c11aecdc"
      },
      "source": [
        "list2[-5:-4]"
      ],
      "execution_count": 45,
      "outputs": [
        {
          "output_type": "execute_result",
          "data": {
            "text/plain": [
              "['Michael']"
            ]
          },
          "metadata": {},
          "execution_count": 45
        }
      ]
    },
    {
      "cell_type": "code",
      "metadata": {
        "colab": {
          "base_uri": "https://localhost:8080/"
        },
        "id": "4J01_G2TkNUi",
        "outputId": "260a2971-f250-4da0-ba51-fe6ceae589bf"
      },
      "source": [
        "list2[:2]"
      ],
      "execution_count": 46,
      "outputs": [
        {
          "output_type": "execute_result",
          "data": {
            "text/plain": [
              "['Michael', 'Madagascar']"
            ]
          },
          "metadata": {},
          "execution_count": 46
        }
      ]
    },
    {
      "cell_type": "code",
      "metadata": {
        "colab": {
          "base_uri": "https://localhost:8080/"
        },
        "id": "x_oNiax7kmzD",
        "outputId": "db881dc2-d0d0-4cb2-d1e3-efb98eeee0ea"
      },
      "source": [
        "list2[-5:-3]"
      ],
      "execution_count": 47,
      "outputs": [
        {
          "output_type": "execute_result",
          "data": {
            "text/plain": [
              "['Michael', 'Madagascar']"
            ]
          },
          "metadata": {},
          "execution_count": 47
        }
      ]
    },
    {
      "cell_type": "code",
      "metadata": {
        "colab": {
          "base_uri": "https://localhost:8080/"
        },
        "id": "rh9Ph7vCksrm",
        "outputId": "9a212ca0-0d4f-4073-ff5f-d08e812893e0"
      },
      "source": [
        "list2[4:5]"
      ],
      "execution_count": 48,
      "outputs": [
        {
          "output_type": "execute_result",
          "data": {
            "text/plain": [
              "['Sarah']"
            ]
          },
          "metadata": {},
          "execution_count": 48
        }
      ]
    },
    {
      "cell_type": "code",
      "metadata": {
        "colab": {
          "base_uri": "https://localhost:8080/"
        },
        "id": "TwEBklNEk5DV",
        "outputId": "f0b71e95-4c8b-4a47-b03b-a495c8ff7ea1"
      },
      "source": [
        "list2[3:]"
      ],
      "execution_count": 49,
      "outputs": [
        {
          "output_type": "execute_result",
          "data": {
            "text/plain": [
              "['Jake', 'Sarah']"
            ]
          },
          "metadata": {},
          "execution_count": 49
        }
      ]
    },
    {
      "cell_type": "code",
      "metadata": {
        "colab": {
          "base_uri": "https://localhost:8080/"
        },
        "id": "wu04Bp6ik9U_",
        "outputId": "8a808294-bbed-45ed-d277-9023282663f4"
      },
      "source": [
        "list2[:2],list2[3:]"
      ],
      "execution_count": 50,
      "outputs": [
        {
          "output_type": "execute_result",
          "data": {
            "text/plain": [
              "(['Michael', 'Madagascar'], ['Jake', 'Sarah'])"
            ]
          },
          "metadata": {},
          "execution_count": 50
        }
      ]
    },
    {
      "cell_type": "code",
      "metadata": {
        "id": "I176DraGlNbo",
        "colab": {
          "base_uri": "https://localhost:8080/"
        },
        "outputId": "b0d05f29-2c37-4d39-ac77-6d970b368ec1"
      },
      "source": [
        "list3 = [list2[:2],list2[3:]]\n",
        "list3"
      ],
      "execution_count": 51,
      "outputs": [
        {
          "output_type": "execute_result",
          "data": {
            "text/plain": [
              "[['Michael', 'Madagascar'], ['Jake', 'Sarah']]"
            ]
          },
          "metadata": {},
          "execution_count": 51
        }
      ]
    },
    {
      "cell_type": "code",
      "metadata": {
        "id": "y1jtMkIdlqAb",
        "colab": {
          "base_uri": "https://localhost:8080/"
        },
        "outputId": "87e6f27a-6b25-4eeb-9409-98c9f04305c2"
      },
      "source": [
        "#append() adds an element at the end of the list\n",
        "list2.append(\"Hannah\")\n",
        "list2"
      ],
      "execution_count": 52,
      "outputs": [
        {
          "output_type": "execute_result",
          "data": {
            "text/plain": [
              "['Michael', 'Madagascar', 'Anna', 'Jake', 'Sarah', 'Hannah']"
            ]
          },
          "metadata": {},
          "execution_count": 52
        }
      ]
    },
    {
      "cell_type": "code",
      "metadata": {
        "id": "ac3oibDwl4AU",
        "colab": {
          "base_uri": "https://localhost:8080/"
        },
        "outputId": "54edde87-d36f-468b-cf8a-74b9e428e11f"
      },
      "source": [
        "#insert() adds an element at the specified position\n",
        "list2.insert(4,\"Steven\")\n",
        "list2"
      ],
      "execution_count": 53,
      "outputs": [
        {
          "output_type": "execute_result",
          "data": {
            "text/plain": [
              "['Michael', 'Madagascar', 'Anna', 'Jake', 'Steven', 'Sarah', 'Hannah']"
            ]
          },
          "metadata": {},
          "execution_count": 53
        }
      ]
    },
    {
      "cell_type": "code",
      "metadata": {
        "id": "E_ZayDuAmNQr",
        "colab": {
          "base_uri": "https://localhost:8080/"
        },
        "outputId": "f256b43a-0b0c-42d0-d607-bceccfcdcb70"
      },
      "source": [
        "list2.insert(3,'Hasan')\n",
        "list2"
      ],
      "execution_count": 54,
      "outputs": [
        {
          "output_type": "execute_result",
          "data": {
            "text/plain": [
              "['Michael', 'Madagascar', 'Anna', 'Hasan', 'Jake', 'Steven', 'Sarah', 'Hannah']"
            ]
          },
          "metadata": {},
          "execution_count": 54
        }
      ]
    },
    {
      "cell_type": "code",
      "metadata": {
        "id": "q8BtEzyhmc2L",
        "colab": {
          "base_uri": "https://localhost:8080/"
        },
        "outputId": "56aa7a24-9e28-4b30-e7f8-876d5e358e16"
      },
      "source": [
        "#sort() sorts the list\n",
        "list2.sort()\n",
        "list2"
      ],
      "execution_count": 55,
      "outputs": [
        {
          "output_type": "execute_result",
          "data": {
            "text/plain": [
              "['Anna', 'Hannah', 'Hasan', 'Jake', 'Madagascar', 'Michael', 'Sarah', 'Steven']"
            ]
          },
          "metadata": {},
          "execution_count": 55
        }
      ]
    },
    {
      "cell_type": "code",
      "metadata": {
        "colab": {
          "base_uri": "https://localhost:8080/",
          "height": 35
        },
        "id": "umn1Ok75mkfG",
        "outputId": "7d49db78-ecc9-4a09-8007-3711498d01c0"
      },
      "source": [
        "#pop() removes the element at the specified position\n",
        "list2.pop()"
      ],
      "execution_count": 56,
      "outputs": [
        {
          "output_type": "execute_result",
          "data": {
            "application/vnd.google.colaboratory.intrinsic+json": {
              "type": "string"
            },
            "text/plain": [
              "'Steven'"
            ]
          },
          "metadata": {},
          "execution_count": 56
        }
      ]
    },
    {
      "cell_type": "code",
      "metadata": {
        "colab": {
          "base_uri": "https://localhost:8080/"
        },
        "id": "aSRj-errmwiB",
        "outputId": "eba1eeba-8976-4017-a89a-11a93bc9516d"
      },
      "source": [
        "list2"
      ],
      "execution_count": 57,
      "outputs": [
        {
          "output_type": "execute_result",
          "data": {
            "text/plain": [
              "['Anna', 'Hannah', 'Hasan', 'Jake', 'Madagascar', 'Michael', 'Sarah']"
            ]
          },
          "metadata": {},
          "execution_count": 57
        }
      ]
    },
    {
      "cell_type": "code",
      "metadata": {
        "colab": {
          "base_uri": "https://localhost:8080/",
          "height": 35
        },
        "id": "-6MdYYNhmyy0",
        "outputId": "d0ea5f21-a68c-478b-89f6-39ad6f0dc46c"
      },
      "source": [
        "list2.pop(-2)"
      ],
      "execution_count": 58,
      "outputs": [
        {
          "output_type": "execute_result",
          "data": {
            "application/vnd.google.colaboratory.intrinsic+json": {
              "type": "string"
            },
            "text/plain": [
              "'Michael'"
            ]
          },
          "metadata": {},
          "execution_count": 58
        }
      ]
    },
    {
      "cell_type": "code",
      "metadata": {
        "colab": {
          "base_uri": "https://localhost:8080/"
        },
        "id": "SeDB06zxm8qH",
        "outputId": "bd32d496-f880-4e89-b243-b3bfe6e5e908"
      },
      "source": [
        "list2"
      ],
      "execution_count": 59,
      "outputs": [
        {
          "output_type": "execute_result",
          "data": {
            "text/plain": [
              "['Anna', 'Hannah', 'Hasan', 'Jake', 'Madagascar', 'Sarah']"
            ]
          },
          "metadata": {},
          "execution_count": 59
        }
      ]
    },
    {
      "cell_type": "code",
      "metadata": {
        "id": "uKjQqZm6m-3R"
      },
      "source": [
        "list2.insert(1,\"Baron\")"
      ],
      "execution_count": 60,
      "outputs": []
    },
    {
      "cell_type": "code",
      "metadata": {
        "colab": {
          "base_uri": "https://localhost:8080/"
        },
        "id": "5SNUK1tjnUZV",
        "outputId": "3d19d35c-c463-467d-f36b-4a1b82612bb7"
      },
      "source": [
        "list2"
      ],
      "execution_count": 61,
      "outputs": [
        {
          "output_type": "execute_result",
          "data": {
            "text/plain": [
              "['Anna', 'Baron', 'Hannah', 'Hasan', 'Jake', 'Madagascar', 'Sarah']"
            ]
          },
          "metadata": {},
          "execution_count": 61
        }
      ]
    },
    {
      "cell_type": "code",
      "metadata": {
        "id": "g1HXGml8ncRM"
      },
      "source": [
        "list2.remove(\"Hasan\")"
      ],
      "execution_count": 62,
      "outputs": []
    },
    {
      "cell_type": "code",
      "metadata": {
        "colab": {
          "base_uri": "https://localhost:8080/"
        },
        "id": "BH3xEe-vnlIN",
        "outputId": "57b2dd31-65b9-4113-d219-7a37309edb16"
      },
      "source": [
        "list2"
      ],
      "execution_count": 63,
      "outputs": [
        {
          "output_type": "execute_result",
          "data": {
            "text/plain": [
              "['Anna', 'Baron', 'Hannah', 'Jake', 'Madagascar', 'Sarah']"
            ]
          },
          "metadata": {},
          "execution_count": 63
        }
      ]
    },
    {
      "cell_type": "code",
      "metadata": {
        "colab": {
          "base_uri": "https://localhost:8080/"
        },
        "id": "rIWIe9L8nygf",
        "outputId": "a2e0b48c-d493-4dd1-f133-b5de57825418"
      },
      "source": [
        "list2.index(\"Madagascar\")"
      ],
      "execution_count": 64,
      "outputs": [
        {
          "output_type": "execute_result",
          "data": {
            "text/plain": [
              "4"
            ]
          },
          "metadata": {},
          "execution_count": 64
        }
      ]
    },
    {
      "cell_type": "code",
      "metadata": {
        "id": "jsp21Ithn-hg"
      },
      "source": [
        "list2.sort()"
      ],
      "execution_count": 65,
      "outputs": []
    },
    {
      "cell_type": "code",
      "metadata": {
        "colab": {
          "base_uri": "https://localhost:8080/"
        },
        "id": "_locgZGzoC69",
        "outputId": "69589b49-608f-4f21-a5fc-518d38e81400"
      },
      "source": [
        "list2"
      ],
      "execution_count": 66,
      "outputs": [
        {
          "output_type": "execute_result",
          "data": {
            "text/plain": [
              "['Anna', 'Baron', 'Hannah', 'Jake', 'Madagascar', 'Sarah']"
            ]
          },
          "metadata": {},
          "execution_count": 66
        }
      ]
    },
    {
      "cell_type": "code",
      "metadata": {
        "colab": {
          "base_uri": "https://localhost:8080/"
        },
        "id": "VrB65_O-oEpt",
        "outputId": "e233143a-2409-4e81-c7f9-fa99a4568574"
      },
      "source": [
        "a = int(input(\"Enter first value\"))\n",
        "b = int(input(\"Enter second value\"))\n",
        "a+b"
      ],
      "execution_count": 67,
      "outputs": [
        {
          "name": "stdout",
          "output_type": "stream",
          "text": [
            "Enter first value2\n",
            "Enter second value4\n"
          ]
        },
        {
          "output_type": "execute_result",
          "data": {
            "text/plain": [
              "6"
            ]
          },
          "metadata": {},
          "execution_count": 67
        }
      ]
    },
    {
      "cell_type": "markdown",
      "metadata": {
        "id": "oqnDy1Qlo2VY"
      },
      "source": [
        "###TUPLES\n",
        "\n",
        "Tuples are immutable data structure which contain heterogeneous sequence of elements separated by comma. Elements of tuple are accessed by indexing.\n",
        "\n",
        "Syntax: tuple =() or tuple = \n",
        "\n",
        "Advantages of tuples:\n",
        "1. They protect the data as they are immutable\n",
        "2. Tuples are faster than list\n",
        "3. Tuples can be used as keys to dictionary"
      ]
    },
    {
      "cell_type": "code",
      "metadata": {
        "id": "8PSVSxv0obis"
      },
      "source": [
        "tupl1=(123, \"Manson\", 9)"
      ],
      "execution_count": 68,
      "outputs": []
    },
    {
      "cell_type": "code",
      "metadata": {
        "colab": {
          "base_uri": "https://localhost:8080/"
        },
        "id": "W725oHeopcOs",
        "outputId": "40acd5ba-d424-4ff7-976d-3addedcbfece"
      },
      "source": [
        "type(tupl1)"
      ],
      "execution_count": 69,
      "outputs": [
        {
          "output_type": "execute_result",
          "data": {
            "text/plain": [
              "tuple"
            ]
          },
          "metadata": {},
          "execution_count": 69
        }
      ]
    },
    {
      "cell_type": "code",
      "metadata": {
        "id": "_brW6exmpoTN"
      },
      "source": [
        "tupl2=234, \"Ben\""
      ],
      "execution_count": 70,
      "outputs": []
    },
    {
      "cell_type": "code",
      "metadata": {
        "colab": {
          "base_uri": "https://localhost:8080/"
        },
        "id": "Bdh55ZOvp2tq",
        "outputId": "a58a13ea-0751-466f-b589-fa505dfc846a"
      },
      "source": [
        "tupl2"
      ],
      "execution_count": 71,
      "outputs": [
        {
          "output_type": "execute_result",
          "data": {
            "text/plain": [
              "(234, 'Ben')"
            ]
          },
          "metadata": {},
          "execution_count": 71
        }
      ]
    },
    {
      "cell_type": "code",
      "metadata": {
        "colab": {
          "base_uri": "https://localhost:8080/"
        },
        "id": "iGsnJJZ_p6_X",
        "outputId": "6c54ea52-40c2-47bd-c7e8-a5253c631c5d"
      },
      "source": [
        "tupl1 + tupl2"
      ],
      "execution_count": 72,
      "outputs": [
        {
          "output_type": "execute_result",
          "data": {
            "text/plain": [
              "(123, 'Manson', 9, 234, 'Ben')"
            ]
          },
          "metadata": {},
          "execution_count": 72
        }
      ]
    },
    {
      "cell_type": "code",
      "metadata": {
        "colab": {
          "base_uri": "https://localhost:8080/",
          "height": 35
        },
        "id": "rW_Qe7-tqIKL",
        "outputId": "fcdf65a1-ad4e-453f-b0fc-0b9c8a249a56"
      },
      "source": [
        "tupl2[1]"
      ],
      "execution_count": 73,
      "outputs": [
        {
          "output_type": "execute_result",
          "data": {
            "application/vnd.google.colaboratory.intrinsic+json": {
              "type": "string"
            },
            "text/plain": [
              "'Ben'"
            ]
          },
          "metadata": {},
          "execution_count": 73
        }
      ]
    },
    {
      "cell_type": "code",
      "metadata": {
        "id": "O9bBCYwnqS4g"
      },
      "source": [
        "tupl3 = \"Ken \" * 12 "
      ],
      "execution_count": 74,
      "outputs": []
    },
    {
      "cell_type": "code",
      "metadata": {
        "colab": {
          "base_uri": "https://localhost:8080/",
          "height": 35
        },
        "id": "5HkZT5wSqhwC",
        "outputId": "c321b4d8-e0ce-4c82-fa6b-7d9cb20a539a"
      },
      "source": [
        "tupl3"
      ],
      "execution_count": 75,
      "outputs": [
        {
          "output_type": "execute_result",
          "data": {
            "application/vnd.google.colaboratory.intrinsic+json": {
              "type": "string"
            },
            "text/plain": [
              "'Ken Ken Ken Ken Ken Ken Ken Ken Ken Ken Ken Ken '"
            ]
          },
          "metadata": {},
          "execution_count": 75
        }
      ]
    },
    {
      "cell_type": "code",
      "metadata": {
        "colab": {
          "base_uri": "https://localhost:8080/"
        },
        "id": "U6yHcrVWqjDm",
        "outputId": "ce6f18af-41b0-4af4-e8a8-09c8bdc463aa"
      },
      "source": [
        "len(tupl3)"
      ],
      "execution_count": 76,
      "outputs": [
        {
          "output_type": "execute_result",
          "data": {
            "text/plain": [
              "48"
            ]
          },
          "metadata": {},
          "execution_count": 76
        }
      ]
    },
    {
      "cell_type": "code",
      "metadata": {
        "colab": {
          "base_uri": "https://localhost:8080/"
        },
        "id": "q34w1KRgqsXW",
        "outputId": "0ca9dd11-9e45-4517-c8fd-37cdb8f37b82"
      },
      "source": [
        "tupl2.index('Ben')"
      ],
      "execution_count": 77,
      "outputs": [
        {
          "output_type": "execute_result",
          "data": {
            "text/plain": [
              "1"
            ]
          },
          "metadata": {},
          "execution_count": 77
        }
      ]
    },
    {
      "cell_type": "code",
      "metadata": {
        "colab": {
          "base_uri": "https://localhost:8080/"
        },
        "id": "UPLwMERiq36f",
        "outputId": "e62d3336-d190-41a1-9aa9-61b31e5431d9"
      },
      "source": [
        "tupl3.count(\"Ken\")"
      ],
      "execution_count": 78,
      "outputs": [
        {
          "output_type": "execute_result",
          "data": {
            "text/plain": [
              "12"
            ]
          },
          "metadata": {},
          "execution_count": 78
        }
      ]
    },
    {
      "cell_type": "markdown",
      "metadata": {
        "id": "3VA8P9yZrxkh"
      },
      "source": [
        "###DICTIONNARIES\n",
        "\n",
        "Dictionary is ordered as well as unordered depending on the version of python. \n",
        "\n",
        "Dictionary is collection of items which stores data in key value pair, separated by commas and enclosed between { }.\n",
        "\n",
        "We can use only immutable objects like strings and tuples for the key of the dictionary, and keys should be unique."
      ]
    },
    {
      "cell_type": "code",
      "metadata": {
        "id": "NgIflNFmrO11"
      },
      "source": [
        "dict1 = {}"
      ],
      "execution_count": 79,
      "outputs": []
    },
    {
      "cell_type": "code",
      "metadata": {
        "colab": {
          "base_uri": "https://localhost:8080/"
        },
        "id": "zTskiEZIs-xZ",
        "outputId": "6ca104ed-1bf6-42b7-cbe0-6ea8ec88d98d"
      },
      "source": [
        "type(dict1)"
      ],
      "execution_count": 80,
      "outputs": [
        {
          "output_type": "execute_result",
          "data": {
            "text/plain": [
              "dict"
            ]
          },
          "metadata": {},
          "execution_count": 80
        }
      ]
    },
    {
      "cell_type": "code",
      "metadata": {
        "id": "a9Qlu_0ctAWX"
      },
      "source": [
        "students = {\"Megan\": 58, \"Aman\":50, \"Adam\":27} "
      ],
      "execution_count": 81,
      "outputs": []
    },
    {
      "cell_type": "code",
      "metadata": {
        "colab": {
          "base_uri": "https://localhost:8080/"
        },
        "id": "0YhTgEtktP2f",
        "outputId": "2c16e73d-628e-4e61-dead-cfec90d2925c"
      },
      "source": [
        "students"
      ],
      "execution_count": 82,
      "outputs": [
        {
          "output_type": "execute_result",
          "data": {
            "text/plain": [
              "{'Adam': 27, 'Aman': 50, 'Megan': 58}"
            ]
          },
          "metadata": {},
          "execution_count": 82
        }
      ]
    },
    {
      "cell_type": "code",
      "metadata": {
        "id": "_GDO0hYstsof"
      },
      "source": [
        "my_dict = {\"Saakshi\": {\"city\": \"Vashi\", \"surname\": \"Dheer\"}, \"Aman\":{\"city\":\"Thane\", \"surname\": \"Mehta\"}}"
      ],
      "execution_count": 83,
      "outputs": []
    },
    {
      "cell_type": "code",
      "metadata": {
        "colab": {
          "base_uri": "https://localhost:8080/"
        },
        "id": "ycBvFpEfw5MZ",
        "outputId": "cf5d58b3-37cd-4f10-9549-309e9031aa71"
      },
      "source": [
        "my_dict"
      ],
      "execution_count": 84,
      "outputs": [
        {
          "output_type": "execute_result",
          "data": {
            "text/plain": [
              "{'Aman': {'city': 'Thane', 'surname': 'Mehta'},\n",
              " 'Saakshi': {'city': 'Vashi', 'surname': 'Dheer'}}"
            ]
          },
          "metadata": {},
          "execution_count": 84
        }
      ]
    },
    {
      "cell_type": "code",
      "metadata": {
        "colab": {
          "base_uri": "https://localhost:8080/"
        },
        "id": "KsfH-f_Fw7Ex",
        "outputId": "b73ced2a-c2d5-49f7-d22f-1a7827c01f24"
      },
      "source": [
        "my_dict[\"Aman\"]"
      ],
      "execution_count": 85,
      "outputs": [
        {
          "output_type": "execute_result",
          "data": {
            "text/plain": [
              "{'city': 'Thane', 'surname': 'Mehta'}"
            ]
          },
          "metadata": {},
          "execution_count": 85
        }
      ]
    },
    {
      "cell_type": "code",
      "metadata": {
        "colab": {
          "base_uri": "https://localhost:8080/",
          "height": 35
        },
        "id": "c3GvNfrqxNWV",
        "outputId": "4bec91ab-2aaf-42c6-da90-46df66745b56"
      },
      "source": [
        "my_dict[\"Aman\"][\"city\"]"
      ],
      "execution_count": 86,
      "outputs": [
        {
          "output_type": "execute_result",
          "data": {
            "application/vnd.google.colaboratory.intrinsic+json": {
              "type": "string"
            },
            "text/plain": [
              "'Thane'"
            ]
          },
          "metadata": {},
          "execution_count": 86
        }
      ]
    },
    {
      "cell_type": "code",
      "metadata": {
        "colab": {
          "base_uri": "https://localhost:8080/"
        },
        "id": "Xi7lbhIuyHkL",
        "outputId": "171e8ea1-ea3e-4d30-9a1b-ee947e4bc70e"
      },
      "source": [
        "my_dict"
      ],
      "execution_count": 87,
      "outputs": [
        {
          "output_type": "execute_result",
          "data": {
            "text/plain": [
              "{'Aman': {'city': 'Thane', 'surname': 'Mehta'},\n",
              " 'Saakshi': {'city': 'Vashi', 'surname': 'Dheer'}}"
            ]
          },
          "metadata": {},
          "execution_count": 87
        }
      ]
    },
    {
      "cell_type": "code",
      "metadata": {
        "colab": {
          "base_uri": "https://localhost:8080/"
        },
        "id": "lr-ONR_zyUaP",
        "outputId": "42d8dbae-627b-460e-fb52-c4be3f58d961"
      },
      "source": [
        "students[\"Adam\"]"
      ],
      "execution_count": 88,
      "outputs": [
        {
          "output_type": "execute_result",
          "data": {
            "text/plain": [
              "27"
            ]
          },
          "metadata": {},
          "execution_count": 88
        }
      ]
    },
    {
      "cell_type": "code",
      "metadata": {
        "colab": {
          "base_uri": "https://localhost:8080/",
          "height": 35
        },
        "id": "_E9H0tC7ydqc",
        "outputId": "e215009a-5ec9-4f85-84aa-bda3d3293392"
      },
      "source": [
        "my_dict[\"Saakshi\"][\"surname\"]"
      ],
      "execution_count": 89,
      "outputs": [
        {
          "output_type": "execute_result",
          "data": {
            "application/vnd.google.colaboratory.intrinsic+json": {
              "type": "string"
            },
            "text/plain": [
              "'Dheer'"
            ]
          },
          "metadata": {},
          "execution_count": 89
        }
      ]
    },
    {
      "cell_type": "code",
      "metadata": {
        "id": "-NEoqdtXzB0P"
      },
      "source": [
        "my_dict1 = {\"Saakshi\":{\"city\": \"Dubai\", \"surname\":\"Dheer\"}}"
      ],
      "execution_count": 90,
      "outputs": []
    },
    {
      "cell_type": "code",
      "metadata": {
        "colab": {
          "base_uri": "https://localhost:8080/"
        },
        "id": "ch3juijRzliR",
        "outputId": "025e36f9-8458-4b50-fe18-711c311cc2c7"
      },
      "source": [
        "my_dict1"
      ],
      "execution_count": 91,
      "outputs": [
        {
          "output_type": "execute_result",
          "data": {
            "text/plain": [
              "{'Saakshi': {'city': 'Dubai', 'surname': 'Dheer'}}"
            ]
          },
          "metadata": {},
          "execution_count": 91
        }
      ]
    },
    {
      "cell_type": "code",
      "metadata": {
        "id": "AywYKMsT0Bzp"
      },
      "source": [
        "#update() updates the dictionary with the specified key-value pairs\n",
        "my_dict.update(my_dict1)"
      ],
      "execution_count": 92,
      "outputs": []
    },
    {
      "cell_type": "code",
      "metadata": {
        "colab": {
          "base_uri": "https://localhost:8080/"
        },
        "id": "sTJhMlJy0MJ2",
        "outputId": "5c62f527-a8ea-4a41-91c5-dddf8c9c444f"
      },
      "source": [
        "my_dict"
      ],
      "execution_count": 93,
      "outputs": [
        {
          "output_type": "execute_result",
          "data": {
            "text/plain": [
              "{'Aman': {'city': 'Thane', 'surname': 'Mehta'},\n",
              " 'Saakshi': {'city': 'Dubai', 'surname': 'Dheer'}}"
            ]
          },
          "metadata": {},
          "execution_count": 93
        }
      ]
    },
    {
      "cell_type": "code",
      "metadata": {
        "id": "SmaTh-qe0OSh"
      },
      "source": [
        "#clear() removes all the elements from the dictionary\n",
        "my_dict1.clear()"
      ],
      "execution_count": 94,
      "outputs": []
    },
    {
      "cell_type": "code",
      "metadata": {
        "colab": {
          "base_uri": "https://localhost:8080/"
        },
        "id": "q2RkDYJO0aud",
        "outputId": "05e2ef9b-4c3f-4e1d-f6db-5ad7b9de4891"
      },
      "source": [
        "my_dict1"
      ],
      "execution_count": 95,
      "outputs": [
        {
          "output_type": "execute_result",
          "data": {
            "text/plain": [
              "{}"
            ]
          },
          "metadata": {},
          "execution_count": 95
        }
      ]
    },
    {
      "cell_type": "markdown",
      "metadata": {
        "id": "P_TYONrtvXHt"
      },
      "source": [
        "##Python Keyword\n",
        "\n",
        "Keywords are reserved words in python, they are built into core language. They cannot be used as variable name, class name, function name or any other identifier. These keywords are used to define the syntax of python."
      ]
    },
    {
      "cell_type": "code",
      "metadata": {
        "colab": {
          "base_uri": "https://localhost:8080/"
        },
        "id": "cjXxn69j0oYR",
        "outputId": "07fccebe-d4d9-4b57-fd5d-36e9e4a1b131"
      },
      "source": [
        "import keyword\n",
        "print (keyword.kwlist)"
      ],
      "execution_count": 96,
      "outputs": [
        {
          "output_type": "stream",
          "name": "stdout",
          "text": [
            "['False', 'None', 'True', 'and', 'as', 'assert', 'async', 'await', 'break', 'class', 'continue', 'def', 'del', 'elif', 'else', 'except', 'finally', 'for', 'from', 'global', 'if', 'import', 'in', 'is', 'lambda', 'nonlocal', 'not', 'or', 'pass', 'raise', 'return', 'try', 'while', 'with', 'yield']\n"
          ]
        }
      ]
    },
    {
      "cell_type": "code",
      "metadata": {
        "colab": {
          "base_uri": "https://localhost:8080/"
        },
        "id": "NX9WphMNv73D",
        "outputId": "d95abfa0-72ea-4109-ad2c-22dc55c22309"
      },
      "source": [
        "import calendar as cl\n",
        "\n",
        "cl.isleap(2021)"
      ],
      "execution_count": 97,
      "outputs": [
        {
          "output_type": "execute_result",
          "data": {
            "text/plain": [
              "False"
            ]
          },
          "metadata": {},
          "execution_count": 97
        }
      ]
    },
    {
      "cell_type": "code",
      "metadata": {
        "colab": {
          "base_uri": "https://localhost:8080/"
        },
        "id": "bGcQlXwywm0T",
        "outputId": "761544f7-368f-4e4b-c0bf-b1cfc8d2424d"
      },
      "source": [
        "import calendar as cl\n",
        "\n",
        "cl.isleap(2020)"
      ],
      "execution_count": 98,
      "outputs": [
        {
          "output_type": "execute_result",
          "data": {
            "text/plain": [
              "True"
            ]
          },
          "metadata": {},
          "execution_count": 98
        }
      ]
    },
    {
      "cell_type": "code",
      "metadata": {
        "id": "gtNb_3XywrDp"
      },
      "source": [
        "#Assert is used while debugging code\n",
        "\n",
        "name = \"Julia\""
      ],
      "execution_count": 99,
      "outputs": []
    },
    {
      "cell_type": "code",
      "metadata": {
        "id": "IsOPM2rrw5G5",
        "colab": {
          "base_uri": "https://localhost:8080/",
          "height": 181
        },
        "outputId": "98b224a1-956d-4225-f44a-322fa220d9af"
      },
      "source": [
        "#assert checks whether value is correct or not\n",
        "assert name == \"Mega\""
      ],
      "execution_count": 100,
      "outputs": [
        {
          "output_type": "error",
          "ename": "AssertionError",
          "evalue": "ignored",
          "traceback": [
            "\u001b[0;31m---------------------------------------------------------------------------\u001b[0m",
            "\u001b[0;31mAssertionError\u001b[0m                            Traceback (most recent call last)",
            "\u001b[0;32m<ipython-input-100-20d6e4d5cf61>\u001b[0m in \u001b[0;36m<module>\u001b[0;34m()\u001b[0m\n\u001b[1;32m      1\u001b[0m \u001b[0;31m#assert checks whether value is correct or not\u001b[0m\u001b[0;34m\u001b[0m\u001b[0;34m\u001b[0m\u001b[0;34m\u001b[0m\u001b[0m\n\u001b[0;32m----> 2\u001b[0;31m \u001b[0;32massert\u001b[0m \u001b[0mname\u001b[0m \u001b[0;34m==\u001b[0m \u001b[0;34m\"Mega\"\u001b[0m\u001b[0;34m\u001b[0m\u001b[0;34m\u001b[0m\u001b[0m\n\u001b[0m",
            "\u001b[0;31mAssertionError\u001b[0m: "
          ]
        }
      ]
    },
    {
      "cell_type": "code",
      "metadata": {
        "id": "gsm7uelfxEKq"
      },
      "source": [
        "assert name == \"Julia\""
      ],
      "execution_count": 101,
      "outputs": []
    },
    {
      "cell_type": "markdown",
      "metadata": {
        "id": "a4X9kAI4xc2a"
      },
      "source": [
        "##Operators in Python\n",
        "\n",
        "Operators are used to perform operations on variables and values. \n",
        " \n",
        "###List of Operators\n",
        "\n",
        "1. Arithmetic Operators\n",
        "2. Comparison Operators\n",
        "3. Logical Operators\n",
        "4. Assignment Operators\n",
        "5. Membership Operators\n"
      ]
    },
    {
      "cell_type": "code",
      "metadata": {
        "id": "uSn8BHFexLGW"
      },
      "source": [
        "x = 12"
      ],
      "execution_count": 102,
      "outputs": []
    },
    {
      "cell_type": "code",
      "metadata": {
        "id": "5_SoX5f2yOzb"
      },
      "source": [
        "x += 12"
      ],
      "execution_count": 103,
      "outputs": []
    },
    {
      "cell_type": "code",
      "metadata": {
        "colab": {
          "base_uri": "https://localhost:8080/"
        },
        "id": "ylYYynmDyZ2-",
        "outputId": "77c114a3-69cf-4f0b-a71a-cfe814b8a2a0"
      },
      "source": [
        "x"
      ],
      "execution_count": 104,
      "outputs": [
        {
          "output_type": "execute_result",
          "data": {
            "text/plain": [
              "24"
            ]
          },
          "metadata": {},
          "execution_count": 104
        }
      ]
    },
    {
      "cell_type": "code",
      "metadata": {
        "colab": {
          "base_uri": "https://localhost:8080/"
        },
        "id": "KEIfp721ybql",
        "outputId": "e79e2fa3-d010-4a44-e46b-c2427c8d3539"
      },
      "source": [
        "x /= 6\n",
        "x"
      ],
      "execution_count": 105,
      "outputs": [
        {
          "output_type": "execute_result",
          "data": {
            "text/plain": [
              "4.0"
            ]
          },
          "metadata": {},
          "execution_count": 105
        }
      ]
    },
    {
      "cell_type": "code",
      "metadata": {
        "id": "N7t-rUOL0Lp0"
      },
      "source": [
        "list1 = [\"megan\", \"sara\", \"adam\"]"
      ],
      "execution_count": 106,
      "outputs": []
    },
    {
      "cell_type": "code",
      "metadata": {
        "colab": {
          "base_uri": "https://localhost:8080/"
        },
        "id": "fycL08WW0fWp",
        "outputId": "6171c7f9-ce16-4634-f981-cf4917124b9e"
      },
      "source": [
        "'megan' in list1"
      ],
      "execution_count": 107,
      "outputs": [
        {
          "output_type": "execute_result",
          "data": {
            "text/plain": [
              "True"
            ]
          },
          "metadata": {},
          "execution_count": 107
        }
      ]
    },
    {
      "cell_type": "code",
      "metadata": {
        "colab": {
          "base_uri": "https://localhost:8080/"
        },
        "id": "1_XbG9W80mFh",
        "outputId": "ebd52153-4786-47af-82bd-516a72434fe3"
      },
      "source": [
        "'aman' not in list1"
      ],
      "execution_count": 108,
      "outputs": [
        {
          "output_type": "execute_result",
          "data": {
            "text/plain": [
              "True"
            ]
          },
          "metadata": {},
          "execution_count": 108
        }
      ]
    },
    {
      "cell_type": "markdown",
      "metadata": {
        "id": "5kYcQYqT1BNK"
      },
      "source": [
        "#Control Flow Graph\n",
        "\n",
        "Program control flow graph is the order in which the program gets executed.\n",
        "\n",
        "\n",
        "1. Conditonal Statements\n",
        "2. Loops"
      ]
    },
    {
      "cell_type": "code",
      "metadata": {
        "colab": {
          "base_uri": "https://localhost:8080/"
        },
        "id": "s_OF3NmP03dZ",
        "outputId": "bbd5ab36-5a64-46b3-ea98-4eaac2e813b1"
      },
      "source": [
        "#Comparison of two values \n",
        "x = int(input(\"Enter value:\"))\n",
        "y = int(input(\"Enter value:\"))\n",
        "\n",
        "if x > y:\n",
        "  print ('X is greater')\n",
        "else:\n",
        "  print('Y is greater')"
      ],
      "execution_count": 110,
      "outputs": [
        {
          "output_type": "stream",
          "name": "stdout",
          "text": [
            "Enter value:3\n",
            "Enter value:6\n",
            "Y is greater\n"
          ]
        }
      ]
    },
    {
      "cell_type": "code",
      "metadata": {
        "colab": {
          "base_uri": "https://localhost:8080/"
        },
        "id": "OSxMDopE1xqK",
        "outputId": "034779a9-c382-497c-f230-8d579e8df312"
      },
      "source": [
        "#Comparison of two values \n",
        "x = int(input(\"Enter value:\"))\n",
        "y = int(input(\"Enter value:\"))\n",
        "\n",
        "if x > y:\n",
        "  print ('X is greater')\n",
        "\n",
        "print('Y is greater')"
      ],
      "execution_count": 111,
      "outputs": [
        {
          "output_type": "stream",
          "name": "stdout",
          "text": [
            "Enter value:6\n",
            "Enter value:9\n",
            "Y is greater\n"
          ]
        }
      ]
    },
    {
      "cell_type": "code",
      "metadata": {
        "colab": {
          "base_uri": "https://localhost:8080/"
        },
        "id": "KU0LuS8B16Qo",
        "outputId": "17d667a3-d3f7-4d75-bdd7-bd45160b743e"
      },
      "source": [
        "#Comparison of three values \n",
        "x = int(input(\"Enter value:\"))\n",
        "y = int(input(\"Enter value:\"))\n",
        "z = int(input(\"Enter value:\"))\n",
        "\n",
        "if x > y and x > z:\n",
        "  print ('X is greater')\n",
        "elif y > z:\n",
        "  print('Y is greater')\n",
        "else: \n",
        "  print(\"Error\")"
      ],
      "execution_count": 112,
      "outputs": [
        {
          "output_type": "stream",
          "name": "stdout",
          "text": [
            "Enter value:9\n",
            "Enter value:3\n",
            "Enter value:10\n",
            "Error\n"
          ]
        }
      ]
    },
    {
      "cell_type": "code",
      "metadata": {
        "colab": {
          "base_uri": "https://localhost:8080/"
        },
        "id": "hAGZcsEx2ZYR",
        "outputId": "b3107cdd-7ac8-43b6-b810-2cd756a3c407"
      },
      "source": [
        "#count using while loop\n",
        "x = 12\n",
        "count = 0\n",
        "while (count != x):\n",
        "  count += 1\n",
        "  print (\"count:\",count)"
      ],
      "execution_count": 113,
      "outputs": [
        {
          "output_type": "stream",
          "name": "stdout",
          "text": [
            "count: 1\n",
            "count: 2\n",
            "count: 3\n",
            "count: 4\n",
            "count: 5\n",
            "count: 6\n",
            "count: 7\n",
            "count: 8\n",
            "count: 9\n",
            "count: 10\n",
            "count: 11\n",
            "count: 12\n"
          ]
        }
      ]
    },
    {
      "cell_type": "code",
      "metadata": {
        "colab": {
          "base_uri": "https://localhost:8080/"
        },
        "id": "_D-bXiAj3RI4",
        "outputId": "a4ed11d1-f06e-490e-c402-5719b82ca760"
      },
      "source": [
        "x = 12\n",
        "count = 0\n",
        "while (count != x):\n",
        "  count += 1\n",
        "  print (\"count:\",count)\n",
        "else:\n",
        "  print (\"end\")"
      ],
      "execution_count": 114,
      "outputs": [
        {
          "output_type": "stream",
          "name": "stdout",
          "text": [
            "count: 1\n",
            "count: 2\n",
            "count: 3\n",
            "count: 4\n",
            "count: 5\n",
            "count: 6\n",
            "count: 7\n",
            "count: 8\n",
            "count: 9\n",
            "count: 10\n",
            "count: 11\n",
            "count: 12\n",
            "end\n"
          ]
        }
      ]
    },
    {
      "cell_type": "code",
      "metadata": {
        "colab": {
          "base_uri": "https://localhost:8080/"
        },
        "id": "I1SneuvF3qBv",
        "outputId": "c3b91814-a694-44e0-8b08-164f41387e85"
      },
      "source": [
        "#printing prime numbers\n",
        "x = 1\n",
        "while(x<=100):\n",
        "  i = 2\n",
        "  count = 0\n",
        "  while(i<=x//2):\n",
        "    if x % i == 0:\n",
        "      count += 1\n",
        "      break\n",
        "    i +=1\n",
        "\n",
        "  if (count == 0 and x != 1):\n",
        "    print('%d' %x, end = ' ')\n",
        "  x += 1"
      ],
      "execution_count": 115,
      "outputs": [
        {
          "output_type": "stream",
          "name": "stdout",
          "text": [
            "2 3 5 7 11 13 17 19 23 29 31 37 41 43 47 53 59 61 67 71 73 79 83 89 97 "
          ]
        }
      ]
    },
    {
      "cell_type": "code",
      "metadata": {
        "colab": {
          "base_uri": "https://localhost:8080/"
        },
        "id": "oVHMh0wp4g0R",
        "outputId": "f4b55c3c-cb46-41b4-c487-25edfec2d72d"
      },
      "source": [
        "x = \"Pizza is good\"\n",
        "for i in x:\n",
        "  print (x)"
      ],
      "execution_count": 116,
      "outputs": [
        {
          "output_type": "stream",
          "name": "stdout",
          "text": [
            "Pizza is good\n",
            "Pizza is good\n",
            "Pizza is good\n",
            "Pizza is good\n",
            "Pizza is good\n",
            "Pizza is good\n",
            "Pizza is good\n",
            "Pizza is good\n",
            "Pizza is good\n",
            "Pizza is good\n",
            "Pizza is good\n",
            "Pizza is good\n",
            "Pizza is good\n"
          ]
        }
      ]
    },
    {
      "cell_type": "code",
      "metadata": {
        "colab": {
          "base_uri": "https://localhost:8080/"
        },
        "id": "v94JdRv67l8S",
        "outputId": "81a5757c-1b39-4635-9502-618927a8594c"
      },
      "source": [
        "for i in range(12):\n",
        "  print (i)"
      ],
      "execution_count": 117,
      "outputs": [
        {
          "output_type": "stream",
          "name": "stdout",
          "text": [
            "0\n",
            "1\n",
            "2\n",
            "3\n",
            "4\n",
            "5\n",
            "6\n",
            "7\n",
            "8\n",
            "9\n",
            "10\n",
            "11\n"
          ]
        }
      ]
    },
    {
      "cell_type": "code",
      "metadata": {
        "colab": {
          "base_uri": "https://localhost:8080/"
        },
        "id": "y0ZcHo8u8B4g",
        "outputId": "2299b8d8-17e1-48c4-c206-45018045966b"
      },
      "source": [
        "for i in range(0,101,10):\n",
        "  print (i)"
      ],
      "execution_count": 118,
      "outputs": [
        {
          "output_type": "stream",
          "name": "stdout",
          "text": [
            "0\n",
            "10\n",
            "20\n",
            "30\n",
            "40\n",
            "50\n",
            "60\n",
            "70\n",
            "80\n",
            "90\n",
            "100\n"
          ]
        }
      ]
    },
    {
      "cell_type": "code",
      "metadata": {
        "colab": {
          "base_uri": "https://localhost:8080/"
        },
        "id": "S2icKyud8SVa",
        "outputId": "aa770f23-48f2-4ea8-9346-bcf84fb36fa7"
      },
      "source": [
        "#printing tables \n",
        "for i in range(1,11):\n",
        "  print ('table of {0}'.format(i))\n",
        "  for j in range(1,11):\n",
        "    print (i*j)"
      ],
      "execution_count": 119,
      "outputs": [
        {
          "output_type": "stream",
          "name": "stdout",
          "text": [
            "table of 1\n",
            "1\n",
            "2\n",
            "3\n",
            "4\n",
            "5\n",
            "6\n",
            "7\n",
            "8\n",
            "9\n",
            "10\n",
            "table of 2\n",
            "2\n",
            "4\n",
            "6\n",
            "8\n",
            "10\n",
            "12\n",
            "14\n",
            "16\n",
            "18\n",
            "20\n",
            "table of 3\n",
            "3\n",
            "6\n",
            "9\n",
            "12\n",
            "15\n",
            "18\n",
            "21\n",
            "24\n",
            "27\n",
            "30\n",
            "table of 4\n",
            "4\n",
            "8\n",
            "12\n",
            "16\n",
            "20\n",
            "24\n",
            "28\n",
            "32\n",
            "36\n",
            "40\n",
            "table of 5\n",
            "5\n",
            "10\n",
            "15\n",
            "20\n",
            "25\n",
            "30\n",
            "35\n",
            "40\n",
            "45\n",
            "50\n",
            "table of 6\n",
            "6\n",
            "12\n",
            "18\n",
            "24\n",
            "30\n",
            "36\n",
            "42\n",
            "48\n",
            "54\n",
            "60\n",
            "table of 7\n",
            "7\n",
            "14\n",
            "21\n",
            "28\n",
            "35\n",
            "42\n",
            "49\n",
            "56\n",
            "63\n",
            "70\n",
            "table of 8\n",
            "8\n",
            "16\n",
            "24\n",
            "32\n",
            "40\n",
            "48\n",
            "56\n",
            "64\n",
            "72\n",
            "80\n",
            "table of 9\n",
            "9\n",
            "18\n",
            "27\n",
            "36\n",
            "45\n",
            "54\n",
            "63\n",
            "72\n",
            "81\n",
            "90\n",
            "table of 10\n",
            "10\n",
            "20\n",
            "30\n",
            "40\n",
            "50\n",
            "60\n",
            "70\n",
            "80\n",
            "90\n",
            "100\n"
          ]
        }
      ]
    },
    {
      "cell_type": "code",
      "metadata": {
        "colab": {
          "base_uri": "https://localhost:8080/"
        },
        "id": "P5QH0V-P88kQ",
        "outputId": "2020bd00-ebc7-4ff2-e2d0-a70fce0d8ab8"
      },
      "source": [
        "#printing tables\n",
        "for i in range(1,11):\n",
        "  print ('table of :',i)\n",
        "  for j in range(1,11):\n",
        "    print (i,\"*\",j,'=',i*j)"
      ],
      "execution_count": 120,
      "outputs": [
        {
          "output_type": "stream",
          "name": "stdout",
          "text": [
            "table of : 1\n",
            "1 * 1 = 1\n",
            "1 * 2 = 2\n",
            "1 * 3 = 3\n",
            "1 * 4 = 4\n",
            "1 * 5 = 5\n",
            "1 * 6 = 6\n",
            "1 * 7 = 7\n",
            "1 * 8 = 8\n",
            "1 * 9 = 9\n",
            "1 * 10 = 10\n",
            "table of : 2\n",
            "2 * 1 = 2\n",
            "2 * 2 = 4\n",
            "2 * 3 = 6\n",
            "2 * 4 = 8\n",
            "2 * 5 = 10\n",
            "2 * 6 = 12\n",
            "2 * 7 = 14\n",
            "2 * 8 = 16\n",
            "2 * 9 = 18\n",
            "2 * 10 = 20\n",
            "table of : 3\n",
            "3 * 1 = 3\n",
            "3 * 2 = 6\n",
            "3 * 3 = 9\n",
            "3 * 4 = 12\n",
            "3 * 5 = 15\n",
            "3 * 6 = 18\n",
            "3 * 7 = 21\n",
            "3 * 8 = 24\n",
            "3 * 9 = 27\n",
            "3 * 10 = 30\n",
            "table of : 4\n",
            "4 * 1 = 4\n",
            "4 * 2 = 8\n",
            "4 * 3 = 12\n",
            "4 * 4 = 16\n",
            "4 * 5 = 20\n",
            "4 * 6 = 24\n",
            "4 * 7 = 28\n",
            "4 * 8 = 32\n",
            "4 * 9 = 36\n",
            "4 * 10 = 40\n",
            "table of : 5\n",
            "5 * 1 = 5\n",
            "5 * 2 = 10\n",
            "5 * 3 = 15\n",
            "5 * 4 = 20\n",
            "5 * 5 = 25\n",
            "5 * 6 = 30\n",
            "5 * 7 = 35\n",
            "5 * 8 = 40\n",
            "5 * 9 = 45\n",
            "5 * 10 = 50\n",
            "table of : 6\n",
            "6 * 1 = 6\n",
            "6 * 2 = 12\n",
            "6 * 3 = 18\n",
            "6 * 4 = 24\n",
            "6 * 5 = 30\n",
            "6 * 6 = 36\n",
            "6 * 7 = 42\n",
            "6 * 8 = 48\n",
            "6 * 9 = 54\n",
            "6 * 10 = 60\n",
            "table of : 7\n",
            "7 * 1 = 7\n",
            "7 * 2 = 14\n",
            "7 * 3 = 21\n",
            "7 * 4 = 28\n",
            "7 * 5 = 35\n",
            "7 * 6 = 42\n",
            "7 * 7 = 49\n",
            "7 * 8 = 56\n",
            "7 * 9 = 63\n",
            "7 * 10 = 70\n",
            "table of : 8\n",
            "8 * 1 = 8\n",
            "8 * 2 = 16\n",
            "8 * 3 = 24\n",
            "8 * 4 = 32\n",
            "8 * 5 = 40\n",
            "8 * 6 = 48\n",
            "8 * 7 = 56\n",
            "8 * 8 = 64\n",
            "8 * 9 = 72\n",
            "8 * 10 = 80\n",
            "table of : 9\n",
            "9 * 1 = 9\n",
            "9 * 2 = 18\n",
            "9 * 3 = 27\n",
            "9 * 4 = 36\n",
            "9 * 5 = 45\n",
            "9 * 6 = 54\n",
            "9 * 7 = 63\n",
            "9 * 8 = 72\n",
            "9 * 9 = 81\n",
            "9 * 10 = 90\n",
            "table of : 10\n",
            "10 * 1 = 10\n",
            "10 * 2 = 20\n",
            "10 * 3 = 30\n",
            "10 * 4 = 40\n",
            "10 * 5 = 50\n",
            "10 * 6 = 60\n",
            "10 * 7 = 70\n",
            "10 * 8 = 80\n",
            "10 * 9 = 90\n",
            "10 * 10 = 100\n"
          ]
        }
      ]
    },
    {
      "cell_type": "code",
      "metadata": {
        "colab": {
          "base_uri": "https://localhost:8080/"
        },
        "id": "b6zc1_6y9QHi",
        "outputId": "614d3e97-250e-4b2b-b727-3ec99a38952e"
      },
      "source": [
        "#printing tables\n",
        "for i in range(21,31):\n",
        "  for j in range(1,11):\n",
        "    k = i*j\n",
        "    print('{0} * {1} = {2}'.format(i,j,k), end = '\\t')\n",
        "  print()"
      ],
      "execution_count": 121,
      "outputs": [
        {
          "output_type": "stream",
          "name": "stdout",
          "text": [
            "21 * 1 = 21\t21 * 2 = 42\t21 * 3 = 63\t21 * 4 = 84\t21 * 5 = 105\t21 * 6 = 126\t21 * 7 = 147\t21 * 8 = 168\t21 * 9 = 189\t21 * 10 = 210\t\n",
            "22 * 1 = 22\t22 * 2 = 44\t22 * 3 = 66\t22 * 4 = 88\t22 * 5 = 110\t22 * 6 = 132\t22 * 7 = 154\t22 * 8 = 176\t22 * 9 = 198\t22 * 10 = 220\t\n",
            "23 * 1 = 23\t23 * 2 = 46\t23 * 3 = 69\t23 * 4 = 92\t23 * 5 = 115\t23 * 6 = 138\t23 * 7 = 161\t23 * 8 = 184\t23 * 9 = 207\t23 * 10 = 230\t\n",
            "24 * 1 = 24\t24 * 2 = 48\t24 * 3 = 72\t24 * 4 = 96\t24 * 5 = 120\t24 * 6 = 144\t24 * 7 = 168\t24 * 8 = 192\t24 * 9 = 216\t24 * 10 = 240\t\n",
            "25 * 1 = 25\t25 * 2 = 50\t25 * 3 = 75\t25 * 4 = 100\t25 * 5 = 125\t25 * 6 = 150\t25 * 7 = 175\t25 * 8 = 200\t25 * 9 = 225\t25 * 10 = 250\t\n",
            "26 * 1 = 26\t26 * 2 = 52\t26 * 3 = 78\t26 * 4 = 104\t26 * 5 = 130\t26 * 6 = 156\t26 * 7 = 182\t26 * 8 = 208\t26 * 9 = 234\t26 * 10 = 260\t\n",
            "27 * 1 = 27\t27 * 2 = 54\t27 * 3 = 81\t27 * 4 = 108\t27 * 5 = 135\t27 * 6 = 162\t27 * 7 = 189\t27 * 8 = 216\t27 * 9 = 243\t27 * 10 = 270\t\n",
            "28 * 1 = 28\t28 * 2 = 56\t28 * 3 = 84\t28 * 4 = 112\t28 * 5 = 140\t28 * 6 = 168\t28 * 7 = 196\t28 * 8 = 224\t28 * 9 = 252\t28 * 10 = 280\t\n",
            "29 * 1 = 29\t29 * 2 = 58\t29 * 3 = 87\t29 * 4 = 116\t29 * 5 = 145\t29 * 6 = 174\t29 * 7 = 203\t29 * 8 = 232\t29 * 9 = 261\t29 * 10 = 290\t\n",
            "30 * 1 = 30\t30 * 2 = 60\t30 * 3 = 90\t30 * 4 = 120\t30 * 5 = 150\t30 * 6 = 180\t30 * 7 = 210\t30 * 8 = 240\t30 * 9 = 270\t30 * 10 = 300\t\n"
          ]
        }
      ]
    },
    {
      "cell_type": "markdown",
      "metadata": {
        "id": "JtQsTHD-eZfH"
      },
      "source": [
        "##List Comprehension\n",
        "\n",
        "It's an elegant wat to define and create list in python. It is basically used to create a new list from another sequence. Just like mathematical set of notation in a single line. \n",
        "\n",
        "syntax: [output expression for items in sequence if condition]"
      ]
    },
    {
      "cell_type": "code",
      "metadata": {
        "colab": {
          "base_uri": "https://localhost:8080/"
        },
        "id": "vxbwK8_K-SCm",
        "outputId": "59d45436-a3ad-4d51-b48c-9ca72e4f50e6"
      },
      "source": [
        "list1 =[]\n",
        "for i in range(0,10):\n",
        "  list1.append(i**2)\n",
        "\n",
        "list1"
      ],
      "execution_count": 122,
      "outputs": [
        {
          "output_type": "execute_result",
          "data": {
            "text/plain": [
              "[0, 1, 4, 9, 16, 25, 36, 49, 64, 81]"
            ]
          },
          "metadata": {},
          "execution_count": 122
        }
      ]
    },
    {
      "cell_type": "code",
      "metadata": {
        "colab": {
          "base_uri": "https://localhost:8080/"
        },
        "id": "SRXTAPIxfYyw",
        "outputId": "cb3ba363-b06e-4a6f-dba9-3f47bf5822d8"
      },
      "source": [
        "[i**2 for i in range(0,10)]"
      ],
      "execution_count": 123,
      "outputs": [
        {
          "output_type": "execute_result",
          "data": {
            "text/plain": [
              "[0, 1, 4, 9, 16, 25, 36, 49, 64, 81]"
            ]
          },
          "metadata": {},
          "execution_count": 123
        }
      ]
    },
    {
      "cell_type": "code",
      "metadata": {
        "colab": {
          "base_uri": "https://localhost:8080/"
        },
        "id": "MLH1OS-kf0xh",
        "outputId": "0e6a4bc7-95dc-4f35-d103-411b77fd7684"
      },
      "source": [
        "[i**3 for i in range(0,10)]"
      ],
      "execution_count": 124,
      "outputs": [
        {
          "output_type": "execute_result",
          "data": {
            "text/plain": [
              "[0, 1, 8, 27, 64, 125, 216, 343, 512, 729]"
            ]
          },
          "metadata": {},
          "execution_count": 124
        }
      ]
    },
    {
      "cell_type": "code",
      "metadata": {
        "colab": {
          "base_uri": "https://localhost:8080/"
        },
        "id": "XmWg3_Mgf7_b",
        "outputId": "60625bc1-858a-4a88-da5d-771ee6e4d450"
      },
      "source": [
        "list2 = []\n",
        "for i in range(1,11):\n",
        "  if i % 2 == 0:\n",
        "    list2.append(i**2)\n",
        "\n",
        "list2"
      ],
      "execution_count": 125,
      "outputs": [
        {
          "output_type": "execute_result",
          "data": {
            "text/plain": [
              "[4, 16, 36, 64, 100]"
            ]
          },
          "metadata": {},
          "execution_count": 125
        }
      ]
    },
    {
      "cell_type": "code",
      "metadata": {
        "colab": {
          "base_uri": "https://localhost:8080/"
        },
        "id": "UlyIzvIUgYxP",
        "outputId": "106baca0-ac72-4ae7-8734-dce83e727399"
      },
      "source": [
        "[i**2 for i in range(1,11) if (i%2==0)]"
      ],
      "execution_count": 126,
      "outputs": [
        {
          "output_type": "execute_result",
          "data": {
            "text/plain": [
              "[4, 16, 36, 64, 100]"
            ]
          },
          "metadata": {},
          "execution_count": 126
        }
      ]
    },
    {
      "cell_type": "code",
      "metadata": {
        "colab": {
          "base_uri": "https://localhost:8080/"
        },
        "id": "_UNol3pNguSF",
        "outputId": "6575deb4-c816-4feb-e9be-007a0bd9d9c3"
      },
      "source": [
        "[i**2 for i in range(1,11) if (i%2==0 and i%3==0)]"
      ],
      "execution_count": 127,
      "outputs": [
        {
          "output_type": "execute_result",
          "data": {
            "text/plain": [
              "[36]"
            ]
          },
          "metadata": {},
          "execution_count": 127
        }
      ]
    },
    {
      "cell_type": "code",
      "metadata": {
        "colab": {
          "base_uri": "https://localhost:8080/"
        },
        "id": "jrl2abFzg7D9",
        "outputId": "7324c16d-d979-4466-dd27-9dc5a407f10a"
      },
      "source": [
        "[i*j for j in range(1,11) for i in range (7,8)]"
      ],
      "execution_count": 128,
      "outputs": [
        {
          "output_type": "execute_result",
          "data": {
            "text/plain": [
              "[7, 14, 21, 28, 35, 42, 49, 56, 63, 70]"
            ]
          },
          "metadata": {},
          "execution_count": 128
        }
      ]
    },
    {
      "cell_type": "code",
      "metadata": {
        "colab": {
          "base_uri": "https://localhost:8080/"
        },
        "id": "LouFfgAKhUk_",
        "outputId": "48dd36e7-fc16-450e-b4de-bb50e95985b2"
      },
      "source": [
        "[i*j for j in range(1,11) for i in range (10,11)]"
      ],
      "execution_count": 129,
      "outputs": [
        {
          "output_type": "execute_result",
          "data": {
            "text/plain": [
              "[10, 20, 30, 40, 50, 60, 70, 80, 90, 100]"
            ]
          },
          "metadata": {},
          "execution_count": 129
        }
      ]
    },
    {
      "cell_type": "markdown",
      "metadata": {
        "id": "cSR3FlTahfZ_"
      },
      "source": [
        "##Functions in Python \n",
        "\n",
        "A function in python is a block of code that performs a specific task which runs only when it is called.\n"
      ]
    },
    {
      "cell_type": "code",
      "metadata": {
        "id": "IAUALnehhaq6"
      },
      "source": [
        "def wish():\n",
        "  print (\"Happy Birthday Hasan\")\n",
        "\n"
      ],
      "execution_count": 130,
      "outputs": []
    },
    {
      "cell_type": "code",
      "metadata": {
        "colab": {
          "base_uri": "https://localhost:8080/"
        },
        "id": "3HbWnt3diCih",
        "outputId": "9e66e19e-6f3d-48ec-ec85-17c39d6176ed"
      },
      "source": [
        "wish()"
      ],
      "execution_count": 131,
      "outputs": [
        {
          "output_type": "stream",
          "name": "stdout",
          "text": [
            "Happy Birthday Hasan\n"
          ]
        }
      ]
    },
    {
      "cell_type": "code",
      "metadata": {
        "id": "ITGLtnFGiD8a"
      },
      "source": [
        "def fact():\n",
        "  x = int(input(\"Enter number:\"))\n",
        "  i,j = 1,1\n",
        "  while (i<=x):\n",
        "    j = j*i\n",
        "    i += 1\n",
        "  print (j)\n"
      ],
      "execution_count": 132,
      "outputs": []
    },
    {
      "cell_type": "code",
      "metadata": {
        "colab": {
          "base_uri": "https://localhost:8080/"
        },
        "id": "GCLxxsKTiz03",
        "outputId": "1cf5772e-8584-4a7c-9d07-51e14b14fbe0"
      },
      "source": [
        "fact()"
      ],
      "execution_count": 133,
      "outputs": [
        {
          "output_type": "stream",
          "name": "stdout",
          "text": [
            "Enter number:2\n",
            "2\n"
          ]
        }
      ]
    },
    {
      "cell_type": "code",
      "metadata": {
        "id": "-vlaxA9SjrDA"
      },
      "source": [
        "factorial = lambda x : x and x * factorial(x - 1) or 1"
      ],
      "execution_count": 134,
      "outputs": []
    },
    {
      "cell_type": "code",
      "metadata": {
        "colab": {
          "base_uri": "https://localhost:8080/"
        },
        "id": "jFhzRI7pkPlf",
        "outputId": "1725b43b-fa5e-42b0-cbb5-029a31475cbb"
      },
      "source": [
        "factorial(4)"
      ],
      "execution_count": 135,
      "outputs": [
        {
          "output_type": "execute_result",
          "data": {
            "text/plain": [
              "24"
            ]
          },
          "metadata": {},
          "execution_count": 135
        }
      ]
    },
    {
      "cell_type": "code",
      "metadata": {
        "id": "oGNLdK4VkUfG"
      },
      "source": [
        "def add(a,b):\n",
        "  return a+b\n",
        "\n"
      ],
      "execution_count": 136,
      "outputs": []
    },
    {
      "cell_type": "code",
      "metadata": {
        "colab": {
          "base_uri": "https://localhost:8080/"
        },
        "id": "KqJ7a5dxlO3f",
        "outputId": "b93d2ca3-9adb-4494-e407-77a57bfbb45d"
      },
      "source": [
        "a=3 \n",
        "b=4\n",
        "\n",
        "add(a,b)"
      ],
      "execution_count": 137,
      "outputs": [
        {
          "output_type": "execute_result",
          "data": {
            "text/plain": [
              "7"
            ]
          },
          "metadata": {},
          "execution_count": 137
        }
      ]
    },
    {
      "cell_type": "code",
      "metadata": {
        "id": "gl44jWojlVgZ"
      },
      "source": [
        "def square(num, pow=2):\n",
        "  return num**pow"
      ],
      "execution_count": 138,
      "outputs": []
    },
    {
      "cell_type": "code",
      "metadata": {
        "colab": {
          "base_uri": "https://localhost:8080/"
        },
        "id": "Wntb7gvQlo6E",
        "outputId": "18d31772-3975-4fcb-8c01-5bf4f5968875"
      },
      "source": [
        "a = 2\n",
        "\n",
        "square(a)"
      ],
      "execution_count": 139,
      "outputs": [
        {
          "output_type": "execute_result",
          "data": {
            "text/plain": [
              "4"
            ]
          },
          "metadata": {},
          "execution_count": 139
        }
      ]
    },
    {
      "cell_type": "code",
      "metadata": {
        "colab": {
          "base_uri": "https://localhost:8080/"
        },
        "id": "ammJhxHpluAP",
        "outputId": "ec312cb5-a60f-4f39-8ecb-6addb40f09d2"
      },
      "source": [
        "square(2,2)"
      ],
      "execution_count": 140,
      "outputs": [
        {
          "output_type": "execute_result",
          "data": {
            "text/plain": [
              "4"
            ]
          },
          "metadata": {},
          "execution_count": 140
        }
      ]
    },
    {
      "cell_type": "code",
      "metadata": {
        "colab": {
          "base_uri": "https://localhost:8080/"
        },
        "id": "ge6NgeYml1lT",
        "outputId": "37a6eb74-ea4c-4a39-f5e7-19efb97d7805"
      },
      "source": [
        "square(5,2)"
      ],
      "execution_count": 141,
      "outputs": [
        {
          "output_type": "execute_result",
          "data": {
            "text/plain": [
              "25"
            ]
          },
          "metadata": {},
          "execution_count": 141
        }
      ]
    },
    {
      "cell_type": "markdown",
      "metadata": {
        "id": "bSYiJPsWmBbi"
      },
      "source": [
        "##Lambda Function\n",
        "\n",
        "Lambda functions are the quicker to write on the go function. \n",
        "In python they are also called as anonymous functions.\n",
        "\n",
        "Syntax: lambda argument : expression\n"
      ]
    },
    {
      "cell_type": "code",
      "metadata": {
        "id": "3Q8H4dAvl6VM"
      },
      "source": [
        "factorial = lambda x : x and x * factorial(x - 1) or 1"
      ],
      "execution_count": 142,
      "outputs": []
    },
    {
      "cell_type": "markdown",
      "metadata": {
        "id": "yhnAKPE3mnBO"
      },
      "source": [
        "##Map() Function\n",
        "\n",
        "It is a function which takes two arguments: function and sequence. This function makes an iterator that applies to each element of the sequence.\n"
      ]
    },
    {
      "cell_type": "code",
      "metadata": {
        "colab": {
          "base_uri": "https://localhost:8080/"
        },
        "id": "YrPirw8QnC3P",
        "outputId": "9a6b9644-74be-45d8-e4d5-6e3e63818a31"
      },
      "source": [
        "x = range(1,11)\n",
        "y = map(lambda i : i**2, x)\n",
        "print (list(y))"
      ],
      "execution_count": 143,
      "outputs": [
        {
          "output_type": "stream",
          "name": "stdout",
          "text": [
            "[1, 4, 9, 16, 25, 36, 49, 64, 81, 100]\n"
          ]
        }
      ]
    },
    {
      "cell_type": "markdown",
      "metadata": {
        "id": "fKE8jGVHnzYi"
      },
      "source": [
        "##Filter() function\n",
        "\n",
        "It takes two arguments: a function and a sequence. This function offers to filter out elements from a list that doesn't satisfy the criteria.  \n"
      ]
    },
    {
      "cell_type": "code",
      "metadata": {
        "colab": {
          "base_uri": "https://localhost:8080/"
        },
        "id": "GuXPlf39ncwr",
        "outputId": "37d0ee8b-8ca8-413c-ea31-9f1b5a78a13c"
      },
      "source": [
        "ls = ['match', 'hat', 'art','steel','bottle', 'cart']\n",
        "ls1 = filter(lambda string : len(string) > 5, ls)\n",
        "print(list(ls1))"
      ],
      "execution_count": 144,
      "outputs": [
        {
          "output_type": "stream",
          "name": "stdout",
          "text": [
            "['bottle']\n"
          ]
        }
      ]
    },
    {
      "cell_type": "markdown",
      "metadata": {
        "id": "UYjMkicjpGsR"
      },
      "source": [
        "##Object Oriented Programming \n",
        "\n",
        "The programming language that deals with objects and classes.\n",
        "\n",
        "##OOP Terminology\n",
        "\n",
        "1. Class: It is a blueprint that defines the state of atrributes that characterises any objects of the class. \n",
        "2. Inheritance: It is a process of creating a new class from existing one and transfer of characteristics on one class to another class.\n",
        "3. Objects: It is a real time entity which has shape, behaviour and attribute. It comprises of both data members and methods.  \n",
        "\n",
        "\n"
      ]
    },
    {
      "cell_type": "code",
      "metadata": {
        "id": "PaaRnjW0oevk"
      },
      "source": [
        "class Students:\n",
        "  std_count = 0\n",
        "\n",
        "  def __init__(self, name, rollno):\n",
        "    self.name = name\n",
        "    self.rollno = rollno\n",
        "    Students.std_count += 1\n",
        "   \n",
        "\n",
        "  def scount(self):\n",
        "     print(\"Count: %d \"%Students.std_count)\n",
        "     \n",
        "  def sname(self):\n",
        "    print(\"name:\",self.name)"
      ],
      "execution_count": 145,
      "outputs": []
    },
    {
      "cell_type": "code",
      "metadata": {
        "id": "3TDoosZBrs-h"
      },
      "source": [
        "std1 = Students('Maria',58)\n",
        "std2 = Students('Saakshi',59)"
      ],
      "execution_count": 146,
      "outputs": []
    },
    {
      "cell_type": "code",
      "metadata": {
        "colab": {
          "base_uri": "https://localhost:8080/"
        },
        "id": "Bt6w1lqZsCLY",
        "outputId": "c82cef9c-222b-4a54-f694-5fa5a8f2842f"
      },
      "source": [
        "std1.sname()"
      ],
      "execution_count": 147,
      "outputs": [
        {
          "output_type": "stream",
          "name": "stdout",
          "text": [
            "name: Maria\n"
          ]
        }
      ]
    },
    {
      "cell_type": "code",
      "metadata": {
        "colab": {
          "base_uri": "https://localhost:8080/"
        },
        "id": "mdsqJhgnsJOw",
        "outputId": "e0242b14-2cf9-4967-db68-018ec34aab00"
      },
      "source": [
        "std2.scount()"
      ],
      "execution_count": 148,
      "outputs": [
        {
          "output_type": "stream",
          "name": "stdout",
          "text": [
            "Count: 2 \n"
          ]
        }
      ]
    },
    {
      "cell_type": "markdown",
      "metadata": {
        "id": "yUb1bBWzuZ3z"
      },
      "source": [
        "##Inheritance\n",
        "It is enables us to define to a class that takes all the functionalities from parent class to child class and allows us to add more.\n"
      ]
    },
    {
      "cell_type": "code",
      "metadata": {
        "colab": {
          "base_uri": "https://localhost:8080/"
        },
        "id": "8dfVE6cVSHAn",
        "outputId": "09ee8d79-c227-43f9-9024-07e740b08712"
      },
      "source": [
        "#parent class\n",
        "class Person:\n",
        "  def __init__(self, fname, lname):\n",
        "    self.firstname = fname\n",
        "    self.lastname = lname\n",
        "\n",
        "  def printname(self):\n",
        "    print(self.firstname, self.lastname)\n",
        "\n",
        "#child class\n",
        "class Student(Person):\n",
        "  def __init__(self, fname, lname):\n",
        "    Person.__init__(self, fname, lname)\n",
        "\n",
        "x = Student(\"Mega\", \"Satish\")\n",
        "x.printname()\n"
      ],
      "execution_count": 149,
      "outputs": [
        {
          "output_type": "stream",
          "name": "stdout",
          "text": [
            "Mega Satish\n"
          ]
        }
      ]
    },
    {
      "cell_type": "markdown",
      "metadata": {
        "id": "mFH6bbGNY40w"
      },
      "source": [
        "##Exception\n",
        "\n",
        "Exception is an abnormal condition which changes the flow of execution of the program. And handling the exception using try or except clause."
      ]
    },
    {
      "cell_type": "code",
      "metadata": {
        "colab": {
          "base_uri": "https://localhost:8080/"
        },
        "id": "zt0wSB70ZoJm",
        "outputId": "19267a62-cbcc-423a-d11c-d9a15d1212a9"
      },
      "source": [
        "import sys\n",
        "list1=['Mega', 58, 'Anchan', 27, 'Swara']\n",
        "\n",
        "for entry in list1:\n",
        "  try:\n",
        "    print('The entry point is:', entry)\n",
        "    i = 1/int(entry)\n",
        "    break\n",
        "\n",
        "  except:\n",
        "    print('Oops', sys.exc_info()[0], 'occured')\n",
        "    print('Next Entry')\n",
        "    print()\n",
        "\n",
        "print('the reciprocal of', entry, 'is', i)"
      ],
      "execution_count": 150,
      "outputs": [
        {
          "output_type": "stream",
          "name": "stdout",
          "text": [
            "The entry point is: Mega\n",
            "Oops <class 'ValueError'> occured\n",
            "Next Entry\n",
            "\n",
            "The entry point is: 58\n",
            "the reciprocal of 58 is 0.017241379310344827\n"
          ]
        }
      ]
    }
  ]
}